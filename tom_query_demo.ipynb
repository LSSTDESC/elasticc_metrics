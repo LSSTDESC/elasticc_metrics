{
 "cells": [
  {
   "cell_type": "code",
   "execution_count": 1,
   "id": "59c4bf2b-60f6-4a93-82ab-427082d5dd89",
   "metadata": {},
   "outputs": [],
   "source": [
    "import sys\n",
    "import os\n",
    "import requests\n",
    "import json"
   ]
  },
  {
   "cell_type": "code",
   "execution_count": 2,
   "id": "7b25f98b-4a00-4c3a-b325-3d8f61d114ff",
   "metadata": {},
   "outputs": [],
   "source": [
    "url = \"https://desc-tom.lbl.gov\"\n",
    "# url = \"https://desc-tom-rknop-dev.lbl.gov\"\n",
    "\n",
    "# Somehow you need to set the \"username\" and \"password\" variables.\n",
    "# Do NOT hardcode the password into any code that will be world\n",
    "# readable.  You can use the python input statement, or, as I do\n",
    "# here, read the password from a file that is only readable by\n",
    "# you.  (This isn't perfect, but it's better than having the\n",
    "# password sit around in a world readable file.)\n",
    "username = \"rknop\"\n",
    "with open( os.path.join( os.getenv(\"HOME\"), \"secrets\", \"tom_rknop_passwd\" ) ) as ifp:\n",
    "    password = ifp.readline().strip()"
   ]
  },
  {
   "cell_type": "code",
   "execution_count": 11,
   "id": "7635002b-e109-4705-965f-a1f8514e8302",
   "metadata": {},
   "outputs": [],
   "source": [
    "# This mess of code is just to log in to the Tom.  There is some\n",
    "# dancing around necessary to get the \"csrftoken\" cookie that Django\n",
    "# demands for queries you send in.\n",
    "#\n",
    "# The detection of failed login is not very good; it's scraping\n",
    "# the text that an interactive failed login would have received.\n",
    "# Sometime I should figure out how to create a API version of\n",
    "# a login.\n",
    "#\n",
    "# Once this is done, the rqs object is the thing you use for further\n",
    "# communcation.\n",
    "\n",
    "rqs = requests.session()\n",
    "rqs.get( f'{url}/accounts/login/' )\n",
    "res = rqs.post( f'{url}/accounts/login/',\n",
    "                data={ \"username\": username,\n",
    "                       \"password\": password,\n",
    "                       \"csrfmiddlewaretoken\": rqs.cookies['csrftoken'] } )\n",
    "if res.status_code != 200:\n",
    "    raise RuntimeError( f\"Failed to log in; http status: {res.status_code}\" )\n",
    "if 'Please enter a correct' in res.text:\n",
    "    raise RuntimeError( \"Failed to log in.  I think.  Put in a debug break and look at res.text\" )\n",
    "rqs.headers.update( { 'X-CSRFToken': rqs.cookies['csrftoken'] } )"
   ]
  },
  {
   "cell_type": "code",
   "execution_count": 8,
   "id": "1a590100-c4f3-4430-ac5a-1fc09319271b",
   "metadata": {},
   "outputs": [],
   "source": [
    "# TO send a query, just pass the query as a string, and any\n",
    "# substitutions as a dict, to the post method of your rqs object.\n",
    "# The query and the substitutions will be fed directly\n",
    "# to psycopg2.  (The database user that the web API is using\n",
    "# is a read-only user, so you shouldn't be able to do damage\n",
    "# other than DOS-type things.)\n",
    "\n",
    "query = 'SELECT * FROM elasticc_diasource WHERE \"diaObjectId\"=%(id)s ORDER BY \"midPointTai\"'\n",
    "subdict = { \"id\": 10208128  }\n",
    "result = rqs.post( f'{url}/db/runsqlquery/',\n",
    "                   json={ 'query': query, 'subdict': subdict } )"
   ]
  },
  {
   "cell_type": "code",
   "execution_count": 10,
   "id": "7bd21866-6c0c-4418-88ad-000ecdea843e",
   "metadata": {},
   "outputs": [
    {
     "name": "stdout",
     "output_type": "stream",
     "text": [
      "Object: 10208128            , Source: 20416256034         , MJD:  60379.30, Flux:    5535.07\n",
      "Object: 10208128            , Source: 20416256035         , MJD:  60379.33, Flux:    3239.56\n",
      "Object: 10208128            , Source: 20416256036         , MJD:  60379.35, Flux:    1773.24\n",
      "Object: 10208128            , Source: 20416256037         , MJD:  60381.34, Flux:    4766.27\n",
      "Object: 10208128            , Source: 20416256038         , MJD:  60381.37, Flux:    3055.83\n",
      "Object: 10208128            , Source: 20416256039         , MJD:  60390.21, Flux:    3879.07\n",
      "Object: 10208128            , Source: 20416256042         , MJD:  60398.33, Flux:    2266.00\n",
      "Object: 10208128            , Source: 20416256044         , MJD:  60399.20, Flux:    3771.70\n",
      "Object: 10208128            , Source: 20416256045         , MJD:  60399.22, Flux:    3678.21\n",
      "Object: 10208128            , Source: 20416256046         , MJD:  60401.23, Flux:    3876.19\n",
      "Object: 10208128            , Source: 20416256047         , MJD:  60401.26, Flux:    4573.88\n",
      "Object: 10208128            , Source: 20416256048         , MJD:  60403.28, Flux:    4002.16\n",
      "Object: 10208128            , Source: 20416256050         , MJD:  60404.13, Flux:    4067.96\n",
      "Object: 10208128            , Source: 20416256051         , MJD:  60405.18, Flux:    3648.33\n",
      "Object: 10208128            , Source: 20416256052         , MJD:  60405.21, Flux:    1825.97\n",
      "Object: 10208128            , Source: 20416256054         , MJD:  60409.17, Flux:    3387.31\n",
      "Object: 10208128            , Source: 20416256055         , MJD:  60413.09, Flux:    2603.24\n",
      "Object: 10208128            , Source: 20416256056         , MJD:  60413.09, Flux:    3081.81\n",
      "Object: 10208128            , Source: 20416256057         , MJD:  60413.11, Flux:    4136.08\n",
      "Object: 10208128            , Source: 20416256058         , MJD:  60413.12, Flux:    3810.33\n",
      "Object: 10208128            , Source: 20416256059         , MJD:  60414.21, Flux:    2650.19\n",
      "Object: 10208128            , Source: 20416256060         , MJD:  60414.24, Flux:    2938.63\n",
      "Object: 10208128            , Source: 20416256061         , MJD:  60416.22, Flux:    2949.57\n",
      "Object: 10208128            , Source: 20416256063         , MJD:  60417.08, Flux:    3485.18\n",
      "Object: 10208128            , Source: 20416256064         , MJD:  60417.11, Flux:    3356.89\n",
      "Object: 10208128            , Source: 20416256072         , MJD:  60435.22, Flux:    2563.35\n"
     ]
    }
   ],
   "source": [
    "# If all is well, in result.txt there is json.  It will have a field\n",
    "# 'status' that is 'ok' if all is well, or 'error' if all is not.\n",
    "# If there was an error, there will be a field 'error' with the \n",
    "# error message; you can use this to debug your SQL.  If the\n",
    "# query succeeded, there will be a field 'rows' that is an\n",
    "# array of dicts with the results of your query.\n",
    "\n",
    "if result.status_code != 200:\n",
    "        sys.stderr.write( f\"ERROR: got status code {result.status_code} ({result.reason})\\n\" )\n",
    "else:\n",
    "    data = json.loads( result.text )\n",
    "    if ( 'status' not in data ) or ( data['status'] != 'ok' ):\n",
    "        if ( 'error' in data ):\n",
    "            sys.stderr.write( f\"Error return: {data['error']}\" )\n",
    "        else:\n",
    "            sys.stderr.write( \"Got unexpected response\\n\" )\n",
    "    else:\n",
    "        for row in data['rows']:\n",
    "            print( f'Object: {row[\"diaObjectId\"]:<20d}, Source: {row[\"diaSourceId\"]:<20d}, '\n",
    "                   f'MJD: {row[\"midPointTai\"]:9.2f}, Flux: {row[\"psFlux\"]:10.2f}' )"
   ]
  },
  {
   "cell_type": "code",
   "execution_count": null,
   "id": "619e093a-1686-4a2f-a5f7-8a8a7456850b",
   "metadata": {},
   "outputs": [],
   "source": []
  }
 ],
 "metadata": {
  "kernelspec": {
   "display_name": "NERSC Python",
   "language": "python",
   "name": "python3"
  },
  "language_info": {
   "codemirror_mode": {
    "name": "ipython",
    "version": 3
   },
   "file_extension": ".py",
   "mimetype": "text/x-python",
   "name": "python",
   "nbconvert_exporter": "python",
   "pygments_lexer": "ipython3",
   "version": "3.9.7"
  }
 },
 "nbformat": 4,
 "nbformat_minor": 5
}
