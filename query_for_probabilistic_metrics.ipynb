{
 "cells": [
  {
   "cell_type": "markdown",
   "id": "6aa25522",
   "metadata": {},
   "source": [
    "# Metrics of classification probabilities\n",
    "\n",
    "TODO: change double float probs to integers, for less space/volume of data, could precompute from binned probabilities, check that it can be done in sql\n",
    "\n",
    "also check the probabilities sum to 1 at some point\n",
    "and allow submissions for negative of class\n",
    "and flags for did not classify and reasons"
   ]
  },
  {
   "cell_type": "code",
   "execution_count": 1,
   "id": "59c4bf2b-60f6-4a93-82ab-427082d5dd89",
   "metadata": {},
   "outputs": [],
   "source": [
    "%matplotlib inline\n",
    "import sys\n",
    "import os\n",
    "import requests\n",
    "import datetime\n",
    "import dateutil.parser\n",
    "import json\n",
    "import numpy\n",
    "import pandas\n",
    "import matplotlib.pyplot as plt\n",
    "import numpy as np\n",
    "import sklearn\n",
    "import sklearn.metrics"
   ]
  },
  {
   "cell_type": "code",
   "execution_count": 2,
   "id": "041e40aa",
   "metadata": {},
   "outputs": [
    {
     "data": {
      "text/plain": [
       "'/home/aimalz'"
      ]
     },
     "execution_count": 2,
     "metadata": {},
     "output_type": "execute_result"
    }
   ],
   "source": [
    " os.getenv(\"HOME\")"
   ]
  },
  {
   "cell_type": "code",
   "execution_count": 3,
   "id": "7b25f98b-4a00-4c3a-b325-3d8f61d114ff",
   "metadata": {},
   "outputs": [],
   "source": [
    "url = \"https://desc-tom.lbl.gov\"\n",
    "# url = \"https://desc-tom-rknop-dev.lbl.gov\"\n",
    "\n",
    "# Somehow you need to set the \"username\" and \"password\" variables.\n",
    "# Do NOT hardcode the password into any code that will be world\n",
    "# readable.  You can use the python input statement, or, as I do\n",
    "# here, read the password from a file that is only readable by\n",
    "# you.  (This isn't perfect, but it's better than having the\n",
    "# password sit around in a world readable file.)\n",
    "username = \"aimalz\"#\"rknop\"\n",
    "with open( os.path.join( os.getenv(\"HOME\"), \"secrets\", \"tom_\"+username+\"_passwd\" ) ) as ifp:\n",
    "    password = ifp.readline().strip()"
   ]
  },
  {
   "cell_type": "code",
   "execution_count": 4,
   "id": "7635002b-e109-4705-965f-a1f8514e8302",
   "metadata": {},
   "outputs": [],
   "source": [
    "rqs = requests.session()\n",
    "rqs.get( f'{url}/accounts/login/' )\n",
    "res = rqs.post( f'{url}/accounts/login/',\n",
    "                data={ \"username\": username,\n",
    "                       \"password\": password,\n",
    "                       \"csrfmiddlewaretoken\": rqs.cookies['csrftoken'] } )\n",
    "if res.status_code != 200:\n",
    "    raise RuntimeError( f\"Failed to log in; http status: {res.status_code}\" )\n",
    "if 'Please enter a correct' in res.text:\n",
    "    raise RuntimeError( \"Failed to log in.  I think.  Put in a debug break and look at res.text\" )\n",
    "rqs.headers.update( { 'X-CSRFToken': rqs.cookies['csrftoken'] } )"
   ]
  },
  {
   "cell_type": "code",
   "execution_count": 5,
   "id": "1a590100-c4f3-4430-ac5a-1fc09319271b",
   "metadata": {},
   "outputs": [],
   "source": [
    "def run_query(query, subdict=None):\n",
    "    if subdict == None:\n",
    "        subdict = {}\n",
    "    result = rqs.post( f'{url}/db/runsqlquery/',\n",
    "        json={ 'query': query, 'subdict': subdict } )\n",
    "    if result.status_code != 200:\n",
    "        sys.stderr.write( f\"ERROR: got status code {result.status_code} ({result.reason})\\n\" )\n",
    "    else:\n",
    "        data = json.loads( result.text )\n",
    "        if ( 'status' not in data ) or ( data['status'] != 'ok' ):\n",
    "            sys.stderr.write( \"Got unexpected response\\n\" )\n",
    "            print(data['error'])\n",
    "        else:\n",
    "            return data['rows']"
   ]
  },
  {
   "cell_type": "code",
   "execution_count": 6,
   "id": "13ee31d8-c4f8-4c5b-91f2-428950f748f5",
   "metadata": {},
   "outputs": [
    {
     "data": {
      "text/plain": [
       "{36: {'classifierId': 36,\n",
       "  'brokerName': 'AMPEL',\n",
       "  'brokerVersion': 'v0.2',\n",
       "  'classifierName': 'ElasticcLiveSNGuess',\n",
       "  'classifierParams': 'XGBUnified+Parsnip04'},\n",
       " 37: {'classifierId': 37,\n",
       "  'brokerName': 'AMPEL',\n",
       "  'brokerVersion': 'v0.2',\n",
       "  'classifierName': 'ElasticcLive',\n",
       "  'classifierParams': 'XGBUnified+Parsnip04'},\n",
       " 38: {'classifierId': 38,\n",
       "  'brokerName': 'AMPEL',\n",
       "  'brokerVersion': 'v0.2',\n",
       "  'classifierName': 'ElasticcLiveSNGuessParsnip',\n",
       "  'classifierParams': 'XGBUnified+Parsnip04'},\n",
       " 39: {'classifierId': 39,\n",
       "  'brokerName': 'AMPEL',\n",
       "  'brokerVersion': 'v0.2',\n",
       "  'classifierName': 'ElasticcLiveSNGuessParsnipPrior',\n",
       "  'classifierParams': 'XGBUnified+Parsnip04'},\n",
       " 40: {'classifierId': 40,\n",
       "  'brokerName': 'ALeRCE',\n",
       "  'brokerVersion': '3.1.0',\n",
       "  'classifierName': 'balto',\n",
       "  'classifierParams': '3.1.0'},\n",
       " 41: {'classifierId': 41,\n",
       "  'brokerName': 'ALeRCE',\n",
       "  'brokerVersion': '1.0.0',\n",
       "  'classifierName': 'messi',\n",
       "  'classifierParams': '1.0.0'},\n",
       " 42: {'classifierId': 42,\n",
       "  'brokerName': 'ALeRCE',\n",
       "  'brokerVersion': '2.0.1',\n",
       "  'classifierName': 'toretto',\n",
       "  'classifierParams': '2.0.1'},\n",
       " 43: {'classifierId': 43,\n",
       "  'brokerName': 'ANTARES',\n",
       "  'brokerVersion': '2.0.0',\n",
       "  'classifierName': 'LightGBM_filter',\n",
       "  'classifierParams': 'v3'},\n",
       " 44: {'classifierId': 44,\n",
       "  'brokerName': 'ANTARES',\n",
       "  'brokerVersion': '2.0.0',\n",
       "  'classifierName': 'LiCuParsnip_filter',\n",
       "  'classifierParams': 'v2'},\n",
       " 45: {'classifierId': 45,\n",
       "  'brokerName': 'Fink',\n",
       "  'brokerVersion': '2.4',\n",
       "  'classifierName': 'AGN classifier version 1.0',\n",
       "  'classifierParams': 'Probability to be an AGN based on a Random Forest classifier'},\n",
       " 46: {'classifierId': 46,\n",
       "  'brokerName': 'Fink',\n",
       "  'brokerVersion': '2.4',\n",
       "  'classifierName': 'AGN classifier version 1.0',\n",
       "  'classifierParams': 'Probability to NOT be an AGN based on a Random Forest classifier'},\n",
       " 47: {'classifierId': 47,\n",
       "  'brokerName': 'Fink',\n",
       "  'brokerVersion': '2.4',\n",
       "  'classifierName': 'SuperNNova SN Ia classifier version 1.0',\n",
       "  'classifierParams': 'Probability to be a SN Ia based on SuperNNova'},\n",
       " 48: {'classifierId': 48,\n",
       "  'brokerName': 'Fink',\n",
       "  'brokerVersion': '2.4',\n",
       "  'classifierName': 'SuperNNova SN Ia classifier version 1.0',\n",
       "  'classifierParams': 'Probability to NOT be a SN Ia based on SuperNNova'},\n",
       " 49: {'classifierId': 49,\n",
       "  'brokerName': 'Fink',\n",
       "  'brokerVersion': '2.4',\n",
       "  'classifierName': 'SuperNNova broad classifier version 1.0',\n",
       "  'classifierParams': 'Level 1 classifier based on SuperNNova'},\n",
       " 50: {'classifierId': 50,\n",
       "  'brokerName': 'Fink',\n",
       "  'brokerVersion': '2.4',\n",
       "  'classifierName': 'CATS broad classifier version 1.0',\n",
       "  'classifierParams': 'Level 1 classifier based on the CBPF Algorithm for Transient Search'},\n",
       " 51: {'classifierId': 51,\n",
       "  'brokerName': 'Fink',\n",
       "  'brokerVersion': '2.4',\n",
       "  'classifierName': 'CATS fine classifier version 1.0',\n",
       "  'classifierParams': 'Level 2 classifier based on the CBPF Algorithm for Transient Search'},\n",
       " 52: {'classifierId': 52,\n",
       "  'brokerName': 'Fink',\n",
       "  'brokerVersion': '2.4',\n",
       "  'classifierName': 'EarlySN classifier version 1.0',\n",
       "  'classifierParams': 'Probability to be an early SN Ia based on a Random Forest classifier'},\n",
       " 53: {'classifierId': 53,\n",
       "  'brokerName': 'Fink',\n",
       "  'brokerVersion': '2.4',\n",
       "  'classifierName': 'EarlySN classifier version 1.0',\n",
       "  'classifierParams': 'Probability to NOT be an early SN Ia based on a Random Forest classifier'},\n",
       " 54: {'classifierId': 54,\n",
       "  'brokerName': 'Fink',\n",
       "  'brokerVersion': '2.4',\n",
       "  'classifierName': 'T2 classifier version 1.0',\n",
       "  'classifierParams': 'Level 1 classifier based on Time-Series Transformer'},\n",
       " 55: {'classifierId': 55,\n",
       "  'brokerName': 'ANTARES',\n",
       "  'brokerVersion': '2.0.0',\n",
       "  'classifierName': 'Astrorapid_filter',\n",
       "  'classifierParams': 'known_redshift=True'},\n",
       " 56: {'classifierId': 56,\n",
       "  'brokerName': 'Fink',\n",
       "  'brokerVersion': '2.5',\n",
       "  'classifierName': 'AGN classifier',\n",
       "  'classifierParams': 'version 1.0'},\n",
       " 57: {'classifierId': 57,\n",
       "  'brokerName': 'Fink',\n",
       "  'brokerVersion': '2.5',\n",
       "  'classifierName': 'SuperNNova SN Ia classifier',\n",
       "  'classifierParams': 'version 1.0'},\n",
       " 58: {'classifierId': 58,\n",
       "  'brokerName': 'Fink',\n",
       "  'brokerVersion': '2.5',\n",
       "  'classifierName': 'SuperNNova broad classifier version 1.0',\n",
       "  'classifierParams': 'Level 1 classifier based on SuperNNova'},\n",
       " 59: {'classifierId': 59,\n",
       "  'brokerName': 'Fink',\n",
       "  'brokerVersion': '2.5',\n",
       "  'classifierName': 'CATS broad classifier version 1.0',\n",
       "  'classifierParams': 'Level 1 classifier based on the CBPF Algorithm for Transient Search'},\n",
       " 60: {'classifierId': 60,\n",
       "  'brokerName': 'Fink',\n",
       "  'brokerVersion': '2.5',\n",
       "  'classifierName': 'CATS fine classifier version 1.0',\n",
       "  'classifierParams': 'Level 2 classifier based on the CBPF Algorithm for Transient Search'},\n",
       " 61: {'classifierId': 61,\n",
       "  'brokerName': 'Fink',\n",
       "  'brokerVersion': '2.5',\n",
       "  'classifierName': 'EarlySN classifier',\n",
       "  'classifierParams': 'version 1.0'},\n",
       " 62: {'classifierId': 62,\n",
       "  'brokerName': 'Fink',\n",
       "  'brokerVersion': '2.5',\n",
       "  'classifierName': 'T2 classifier version 1.0',\n",
       "  'classifierParams': 'Level 1 classifier based on Time-Series Transformer'},\n",
       " 63: {'classifierId': 63,\n",
       "  'brokerName': 'Fink',\n",
       "  'brokerVersion': '2.5',\n",
       "  'classifierName': 'AGN classifier',\n",
       "  'classifierParams': 'version 1.1'},\n",
       " 64: {'classifierId': 64,\n",
       "  'brokerName': 'AMPEL',\n",
       "  'brokerVersion': 'v0.2',\n",
       "  'classifierName': 'ElasticcLiveSNGuess',\n",
       "  'classifierParams': 'XGBUnified+Parsnip05'},\n",
       " 65: {'classifierId': 65,\n",
       "  'brokerName': 'AMPEL',\n",
       "  'brokerVersion': 'v0.2',\n",
       "  'classifierName': 'ElasticcLiveSNGuessParsnip',\n",
       "  'classifierParams': 'XGBUnified+Parsnip05'},\n",
       " 66: {'classifierId': 66,\n",
       "  'brokerName': 'AMPEL',\n",
       "  'brokerVersion': 'v0.2',\n",
       "  'classifierName': 'ElasticcLiveSNGuessParsnipPrior',\n",
       "  'classifierParams': 'XGBUnified+Parsnip05'},\n",
       " 67: {'classifierId': 67,\n",
       "  'brokerName': 'Fink',\n",
       "  'brokerVersion': '2.6',\n",
       "  'classifierName': 'AGN classifier',\n",
       "  'classifierParams': 'version 1.2'},\n",
       " 68: {'classifierId': 68,\n",
       "  'brokerName': 'Fink',\n",
       "  'brokerVersion': '2.6',\n",
       "  'classifierName': 'SuperNNova SN Ia classifier',\n",
       "  'classifierParams': 'version 1.1'},\n",
       " 69: {'classifierId': 69,\n",
       "  'brokerName': 'Fink',\n",
       "  'brokerVersion': '2.6',\n",
       "  'classifierName': 'SuperNNova broad classifier',\n",
       "  'classifierParams': 'version 1.1'},\n",
       " 70: {'classifierId': 70,\n",
       "  'brokerName': 'Fink',\n",
       "  'brokerVersion': '2.6',\n",
       "  'classifierName': 'CATS fine classifier',\n",
       "  'classifierParams': 'version 2.0'},\n",
       " 71: {'classifierId': 71,\n",
       "  'brokerName': 'Fink',\n",
       "  'brokerVersion': '2.6',\n",
       "  'classifierName': 'EarlySN classifier',\n",
       "  'classifierParams': 'version 1.0'},\n",
       " 72: {'classifierId': 72,\n",
       "  'brokerName': 'Fink',\n",
       "  'brokerVersion': '2.6',\n",
       "  'classifierName': 'T2 classifier',\n",
       "  'classifierParams': 'version 1.0'},\n",
       " 73: {'classifierId': 73,\n",
       "  'brokerName': 'ANTARES',\n",
       "  'brokerVersion': '2.0.0',\n",
       "  'classifierName': 'REFLECT_v1',\n",
       "  'classifierParams': 'v1'},\n",
       " 74: {'classifierId': 74,\n",
       "  'brokerName': 'Fink',\n",
       "  'brokerVersion': '2.7',\n",
       "  'classifierName': 'AGN classifier',\n",
       "  'classifierParams': 'version 1.2'},\n",
       " 75: {'classifierId': 75,\n",
       "  'brokerName': 'Fink',\n",
       "  'brokerVersion': '2.7',\n",
       "  'classifierName': 'SuperNNova SN Ia classifier',\n",
       "  'classifierParams': 'version 1.1'},\n",
       " 76: {'classifierId': 76,\n",
       "  'brokerName': 'Fink',\n",
       "  'brokerVersion': '2.7',\n",
       "  'classifierName': 'SuperNNova broad classifier',\n",
       "  'classifierParams': 'version 1.1'},\n",
       " 77: {'classifierId': 77,\n",
       "  'brokerName': 'Fink',\n",
       "  'brokerVersion': '2.7',\n",
       "  'classifierName': 'CATS fine classifier',\n",
       "  'classifierParams': 'version 2.0'},\n",
       " 78: {'classifierId': 78,\n",
       "  'brokerName': 'Fink',\n",
       "  'brokerVersion': '2.7',\n",
       "  'classifierName': 'EarlySN classifier',\n",
       "  'classifierParams': 'version 1.0'},\n",
       " 79: {'classifierId': 79,\n",
       "  'brokerName': 'Fink',\n",
       "  'brokerVersion': '2.7',\n",
       "  'classifierName': 'T2 classifier',\n",
       "  'classifierParams': 'version 1.0'},\n",
       " 80: {'classifierId': 80,\n",
       "  'brokerName': 'ALeRCE',\n",
       "  'brokerVersion': '2.0.0',\n",
       "  'classifierName': 'barney',\n",
       "  'classifierParams': '2.0.0'},\n",
       " 81: {'classifierId': 81,\n",
       "  'brokerName': 'AMPEL',\n",
       "  'brokerVersion': 'v0.3',\n",
       "  'classifierName': 'ElasticcLiveSNGuess',\n",
       "  'classifierParams': 'XGBUnified+Parsnip05'},\n",
       " 82: {'classifierId': 82,\n",
       "  'brokerName': 'AMPEL',\n",
       "  'brokerVersion': 'v0.3',\n",
       "  'classifierName': 'ElasticcLiveSNGuessParsnip',\n",
       "  'classifierParams': 'XGBUnified+Parsnip05'},\n",
       " 83: {'classifierId': 83,\n",
       "  'brokerName': 'AMPEL',\n",
       "  'brokerVersion': 'v0.3',\n",
       "  'classifierName': 'ElasticcLiveSNGuessParsnipPrior',\n",
       "  'classifierParams': 'XGBUnified+Parsnip05'},\n",
       " 84: {'classifierId': 84,\n",
       "  'brokerName': 'Fink',\n",
       "  'brokerVersion': '2.7',\n",
       "  'classifierName': 'AGN classifier',\n",
       "  'classifierParams': 'version 2.0'},\n",
       " 85: {'classifierId': 85,\n",
       "  'brokerName': 'Fink',\n",
       "  'brokerVersion': '2.7',\n",
       "  'classifierName': 'CATS fine classifier',\n",
       "  'classifierParams': 'version 3.0'},\n",
       " 86: {'classifierId': 86,\n",
       "  'brokerName': 'ANTARES',\n",
       "  'brokerVersion': '2.0.0',\n",
       "  'classifierName': 'REFLECT_subclass_v1',\n",
       "  'classifierParams': 'v1'},\n",
       " 87: {'classifierId': 87,\n",
       "  'brokerName': 'AMPEL',\n",
       "  'brokerVersion': 'v0.4',\n",
       "  'classifierName': 'ElasticcLiveSNGuess',\n",
       "  'classifierParams': 'XGBUnified+Parsnip05'},\n",
       " 88: {'classifierId': 88,\n",
       "  'brokerName': 'AMPEL',\n",
       "  'brokerVersion': 'v0.4',\n",
       "  'classifierName': 'ElasticcLiveSNGuessParsnip',\n",
       "  'classifierParams': 'XGBUnified+Parsnip05'},\n",
       " 89: {'classifierId': 89,\n",
       "  'brokerName': 'AMPEL',\n",
       "  'brokerVersion': 'v0.4',\n",
       "  'classifierName': 'ElasticcLiveSNGuessParsnipPrior',\n",
       "  'classifierParams': 'XGBUnified+Parsnip05'}}"
      ]
     },
     "execution_count": 6,
     "metadata": {},
     "output_type": "execute_result"
    }
   ],
   "source": [
    "rows = run_query( 'SELECT \"classifierId\",\"brokerName\",\"brokerVersion\",'\n",
    "                  '\"classifierName\",\"classifierParams\" '\n",
    "                  'FROM elasticc_brokerclassifier' )\n",
    "classifier_info = {}\n",
    "for row in rows:\n",
    "    classifier_info[row[\"classifierId\"]] = row             \n",
    "classifier_info"
   ]
  },
  {
   "cell_type": "markdown",
   "id": "e145552d",
   "metadata": {},
   "source": [
    "### select just a couple `classifierID` to inspect"
   ]
  },
  {
   "cell_type": "code",
   "execution_count": 7,
   "id": "64f9a7d0",
   "metadata": {},
   "outputs": [
    {
     "data": {
      "text/plain": [
       "{40: {'classifierId': 40,\n",
       "  'brokerName': 'ALeRCE',\n",
       "  'brokerVersion': '3.1.0',\n",
       "  'classifierName': 'balto',\n",
       "  'classifierParams': '3.1.0'},\n",
       " 44: {'classifierId': 44,\n",
       "  'brokerName': 'ANTARES',\n",
       "  'brokerVersion': '2.0.0',\n",
       "  'classifierName': 'LiCuParsnip_filter',\n",
       "  'classifierParams': 'v2'}}"
      ]
     },
     "execution_count": 7,
     "metadata": {},
     "output_type": "execute_result"
    }
   ],
   "source": [
    "use_cfers = {i: classifier_info[i] for i in [40, 44]}\n",
    "use_cfers"
   ]
  },
  {
   "cell_type": "code",
   "execution_count": 8,
   "id": "eaf39b52-5775-4d8f-85ab-274cce8764f4",
   "metadata": {},
   "outputs": [],
   "source": [
    "rows = run_query( 'SELECT DISTINCT ON (\"classId\") \"classId\",description '\n",
    "                  'FROM elasticc_gentypeofclassid '\n",
    "                  'ORDER BY \"classId\"' )\n",
    "classname = {}\n",
    "for row in rows:\n",
    "    classname[row[\"classId\"]] = row[\"description\"]"
   ]
  },
  {
   "cell_type": "code",
   "execution_count": null,
   "id": "6e2140e7-f9be-4835-a298-f9903aeb357f",
   "metadata": {},
   "outputs": [],
   "source": [
    "classname"
   ]
  },
  {
   "cell_type": "markdown",
   "id": "67b5a619-ddb8-4151-90d3-3a9fdcc11e0b",
   "metadata": {},
   "source": [
    "## Everything above here is setup.  Run all that.  Then pick and choose below."
   ]
  },
  {
   "cell_type": "code",
   "execution_count": 10,
   "id": "cbae835b-1bc5-4ce0-adfe-91282711d846",
   "metadata": {},
   "outputs": [
    {
     "name": "stderr",
     "output_type": "stream",
     "text": [
      "Query start at 2023-01-07T13:50:21.153647...\n",
      "Query done at 2023-01-07T13:50:21.614187\n"
     ]
    },
    {
     "data": {
      "text/html": [
       "<div>\n",
       "<style scoped>\n",
       "    .dataframe tbody tr th:only-of-type {\n",
       "        vertical-align: middle;\n",
       "    }\n",
       "\n",
       "    .dataframe tbody tr th {\n",
       "        vertical-align: top;\n",
       "    }\n",
       "\n",
       "    .dataframe thead th {\n",
       "        text-align: right;\n",
       "    }\n",
       "</style>\n",
       "<table border=\"1\" class=\"dataframe\">\n",
       "  <thead>\n",
       "    <tr style=\"text-align: right;\">\n",
       "      <th></th>\n",
       "      <th>classifierId</th>\n",
       "      <th>diaObjectId</th>\n",
       "      <th>classId</th>\n",
       "      <th>alertId</th>\n",
       "      <th>trueClassId</th>\n",
       "      <th>probability</th>\n",
       "      <th>descIngestTimestamp</th>\n",
       "    </tr>\n",
       "  </thead>\n",
       "  <tbody>\n",
       "    <tr>\n",
       "      <th>0</th>\n",
       "      <td>40</td>\n",
       "      <td>1000009</td>\n",
       "      <td>115</td>\n",
       "      <td>2000018241</td>\n",
       "      <td>214</td>\n",
       "      <td>1.524055e-16</td>\n",
       "      <td>2022-12-25T12:17:29.752Z</td>\n",
       "    </tr>\n",
       "    <tr>\n",
       "      <th>1</th>\n",
       "      <td>40</td>\n",
       "      <td>1000009</td>\n",
       "      <td>111</td>\n",
       "      <td>2000018241</td>\n",
       "      <td>214</td>\n",
       "      <td>1.680303e-15</td>\n",
       "      <td>2022-12-25T12:17:29.752Z</td>\n",
       "    </tr>\n",
       "    <tr>\n",
       "      <th>2</th>\n",
       "      <td>40</td>\n",
       "      <td>1000009</td>\n",
       "      <td>114</td>\n",
       "      <td>2000018241</td>\n",
       "      <td>214</td>\n",
       "      <td>1.141596e-15</td>\n",
       "      <td>2022-12-25T12:17:29.752Z</td>\n",
       "    </tr>\n",
       "    <tr>\n",
       "      <th>3</th>\n",
       "      <td>40</td>\n",
       "      <td>1000009</td>\n",
       "      <td>112</td>\n",
       "      <td>2000018241</td>\n",
       "      <td>214</td>\n",
       "      <td>5.137730e-16</td>\n",
       "      <td>2022-12-25T12:17:29.752Z</td>\n",
       "    </tr>\n",
       "    <tr>\n",
       "      <th>4</th>\n",
       "      <td>40</td>\n",
       "      <td>1000009</td>\n",
       "      <td>113</td>\n",
       "      <td>2000018241</td>\n",
       "      <td>214</td>\n",
       "      <td>4.103487e-14</td>\n",
       "      <td>2022-12-25T12:17:29.752Z</td>\n",
       "    </tr>\n",
       "    <tr>\n",
       "      <th>...</th>\n",
       "      <td>...</td>\n",
       "      <td>...</td>\n",
       "      <td>...</td>\n",
       "      <td>...</td>\n",
       "      <td>...</td>\n",
       "      <td>...</td>\n",
       "      <td>...</td>\n",
       "    </tr>\n",
       "    <tr>\n",
       "      <th>95</th>\n",
       "      <td>42</td>\n",
       "      <td>1000009</td>\n",
       "      <td>220</td>\n",
       "      <td>2000018241</td>\n",
       "      <td>214</td>\n",
       "      <td>0.000000e+00</td>\n",
       "      <td>2022-12-26T08:35:18.873Z</td>\n",
       "    </tr>\n",
       "    <tr>\n",
       "      <th>96</th>\n",
       "      <td>42</td>\n",
       "      <td>1000009</td>\n",
       "      <td>120</td>\n",
       "      <td>2000018241</td>\n",
       "      <td>214</td>\n",
       "      <td>0.000000e+00</td>\n",
       "      <td>2022-12-26T08:35:18.873Z</td>\n",
       "    </tr>\n",
       "    <tr>\n",
       "      <th>97</th>\n",
       "      <td>42</td>\n",
       "      <td>1000009</td>\n",
       "      <td>130</td>\n",
       "      <td>2000018241</td>\n",
       "      <td>214</td>\n",
       "      <td>0.000000e+00</td>\n",
       "      <td>2022-12-26T08:35:18.873Z</td>\n",
       "    </tr>\n",
       "    <tr>\n",
       "      <th>98</th>\n",
       "      <td>87</td>\n",
       "      <td>1000009</td>\n",
       "      <td>21</td>\n",
       "      <td>2000018241</td>\n",
       "      <td>214</td>\n",
       "      <td>1.000000e+00</td>\n",
       "      <td>2022-12-27T08:35:28.524Z</td>\n",
       "    </tr>\n",
       "    <tr>\n",
       "      <th>99</th>\n",
       "      <td>43</td>\n",
       "      <td>1000009</td>\n",
       "      <td>111</td>\n",
       "      <td>2000018217</td>\n",
       "      <td>214</td>\n",
       "      <td>1.943747e-03</td>\n",
       "      <td>2023-01-05T23:30:34.780Z</td>\n",
       "    </tr>\n",
       "  </tbody>\n",
       "</table>\n",
       "<p>100 rows × 7 columns</p>\n",
       "</div>"
      ],
      "text/plain": [
       "    classifierId  diaObjectId  classId     alertId  trueClassId   probability  \\\n",
       "0             40      1000009      115  2000018241          214  1.524055e-16   \n",
       "1             40      1000009      111  2000018241          214  1.680303e-15   \n",
       "2             40      1000009      114  2000018241          214  1.141596e-15   \n",
       "3             40      1000009      112  2000018241          214  5.137730e-16   \n",
       "4             40      1000009      113  2000018241          214  4.103487e-14   \n",
       "..           ...          ...      ...         ...          ...           ...   \n",
       "95            42      1000009      220  2000018241          214  0.000000e+00   \n",
       "96            42      1000009      120  2000018241          214  0.000000e+00   \n",
       "97            42      1000009      130  2000018241          214  0.000000e+00   \n",
       "98            87      1000009       21  2000018241          214  1.000000e+00   \n",
       "99            43      1000009      111  2000018217          214  1.943747e-03   \n",
       "\n",
       "         descIngestTimestamp  \n",
       "0   2022-12-25T12:17:29.752Z  \n",
       "1   2022-12-25T12:17:29.752Z  \n",
       "2   2022-12-25T12:17:29.752Z  \n",
       "3   2022-12-25T12:17:29.752Z  \n",
       "4   2022-12-25T12:17:29.752Z  \n",
       "..                       ...  \n",
       "95  2022-12-26T08:35:18.873Z  \n",
       "96  2022-12-26T08:35:18.873Z  \n",
       "97  2022-12-26T08:35:18.873Z  \n",
       "98  2022-12-27T08:35:28.524Z  \n",
       "99  2023-01-05T23:30:34.780Z  \n",
       "\n",
       "[100 rows x 7 columns]"
      ]
     },
     "execution_count": 10,
     "metadata": {},
     "output_type": "execute_result"
    }
   ],
   "source": [
    "# consider descIngestTimestamp, alertSentTimestamp\n",
    "#\n",
    "# alertSentTimestamp -- this gets updated in the database when the original\n",
    "#    alert is sent out.  It's NOT present in the dev database, but should\n",
    "#    be in the real one\n",
    "# descIngestTimestamp -- just when we happend to suck in the broker message\n",
    "#\n",
    "# alertId -- opaque fingerprint, don't sort on it, but it does correspond to\n",
    "#   the original alert.  Different alertId = different source, i.e.\n",
    "#   measurement of the transient.\n",
    "\n",
    "sys.stderr.write( f\"Query start at {datetime.datetime.now().isoformat()}...\\n\" )\n",
    "query = ( 'SELECT '\n",
    "          '  \"classifierId\",\"diaObjectId\",\"classId\",\"alertId\",\"trueClassId\",\"probability\",\"descIngestTimestamp\" '\n",
    "          'FROM elasticc_view_sourceclassifications '\n",
    "          'ORDER BY \"diaObjectId\",\"descIngestTimestamp\",\"classifierId\" '\n",
    "          'OFFSET 100 LIMIT 100' )\n",
    "rows = run_query( query )\n",
    "sys.stderr.write( f\"Query done at {datetime.datetime.now().isoformat()}\\n\" )\n",
    "data = pandas.DataFrame( rows )\n",
    "data\n",
    "# classifiers = data.classifierId.unique()"
   ]
  },
  {
   "cell_type": "markdown",
   "id": "2618435a",
   "metadata": {},
   "source": [
    "TODO: change double float probs to integers, for less space/volume of data\n",
    "also check the probabilities sum to 1 at some point\n",
    "and allow submissions for negative of class\n",
    "and flags for did not classify and reasons"
   ]
  },
  {
   "cell_type": "code",
   "execution_count": 11,
   "id": "369b3a41-7aba-4a0f-a2a1-4ade9c7f3a84",
   "metadata": {},
   "outputs": [
    {
     "name": "stderr",
     "output_type": "stream",
     "text": [
      "Query start at 2023-01-07T13:50:21.659517...\n",
      "Query done at 2023-01-07T13:50:22.748778\n"
     ]
    },
    {
     "data": {
      "text/html": [
       "<div>\n",
       "<style scoped>\n",
       "    .dataframe tbody tr th:only-of-type {\n",
       "        vertical-align: middle;\n",
       "    }\n",
       "\n",
       "    .dataframe tbody tr th {\n",
       "        vertical-align: top;\n",
       "    }\n",
       "\n",
       "    .dataframe thead th {\n",
       "        text-align: right;\n",
       "    }\n",
       "</style>\n",
       "<table border=\"1\" class=\"dataframe\">\n",
       "  <thead>\n",
       "    <tr style=\"text-align: right;\">\n",
       "      <th></th>\n",
       "      <th>classifierId</th>\n",
       "      <th>diaObjectId</th>\n",
       "      <th>classId</th>\n",
       "      <th>alertId</th>\n",
       "      <th>trueClassId</th>\n",
       "      <th>probability</th>\n",
       "      <th>descIngestTimestamp</th>\n",
       "      <th>alertSentTimestamp</th>\n",
       "    </tr>\n",
       "  </thead>\n",
       "  <tbody>\n",
       "    <tr>\n",
       "      <th>0</th>\n",
       "      <td>41</td>\n",
       "      <td>1000487</td>\n",
       "      <td>130</td>\n",
       "      <td>2000974029</td>\n",
       "      <td>112</td>\n",
       "      <td>0.000000e+00</td>\n",
       "      <td>2022-11-17T23:22:45.883Z</td>\n",
       "      <td>2022-11-17T21:01:46.097Z</td>\n",
       "    </tr>\n",
       "    <tr>\n",
       "      <th>1</th>\n",
       "      <td>41</td>\n",
       "      <td>1000487</td>\n",
       "      <td>221</td>\n",
       "      <td>2000974029</td>\n",
       "      <td>112</td>\n",
       "      <td>3.998851e-06</td>\n",
       "      <td>2022-11-17T23:22:45.883Z</td>\n",
       "      <td>2022-11-17T21:01:46.097Z</td>\n",
       "    </tr>\n",
       "    <tr>\n",
       "      <th>2</th>\n",
       "      <td>41</td>\n",
       "      <td>1000487</td>\n",
       "      <td>134</td>\n",
       "      <td>2000974029</td>\n",
       "      <td>112</td>\n",
       "      <td>2.967518e-07</td>\n",
       "      <td>2022-11-17T23:22:45.883Z</td>\n",
       "      <td>2022-11-17T21:01:46.097Z</td>\n",
       "    </tr>\n",
       "    <tr>\n",
       "      <th>3</th>\n",
       "      <td>41</td>\n",
       "      <td>1000487</td>\n",
       "      <td>211</td>\n",
       "      <td>2000974029</td>\n",
       "      <td>112</td>\n",
       "      <td>1.770257e-08</td>\n",
       "      <td>2022-11-17T23:22:45.883Z</td>\n",
       "      <td>2022-11-17T21:01:46.097Z</td>\n",
       "    </tr>\n",
       "    <tr>\n",
       "      <th>4</th>\n",
       "      <td>41</td>\n",
       "      <td>1000487</td>\n",
       "      <td>213</td>\n",
       "      <td>2000974029</td>\n",
       "      <td>112</td>\n",
       "      <td>8.146125e-14</td>\n",
       "      <td>2022-11-17T23:22:45.883Z</td>\n",
       "      <td>2022-11-17T21:01:46.097Z</td>\n",
       "    </tr>\n",
       "    <tr>\n",
       "      <th>...</th>\n",
       "      <td>...</td>\n",
       "      <td>...</td>\n",
       "      <td>...</td>\n",
       "      <td>...</td>\n",
       "      <td>...</td>\n",
       "      <td>...</td>\n",
       "      <td>...</td>\n",
       "      <td>...</td>\n",
       "    </tr>\n",
       "    <tr>\n",
       "      <th>995</th>\n",
       "      <td>41</td>\n",
       "      <td>1000872</td>\n",
       "      <td>214</td>\n",
       "      <td>2001744010</td>\n",
       "      <td>113</td>\n",
       "      <td>5.679732e-06</td>\n",
       "      <td>2022-09-30T17:58:06.750Z</td>\n",
       "      <td>2022-09-29T22:55:10.721Z</td>\n",
       "    </tr>\n",
       "    <tr>\n",
       "      <th>996</th>\n",
       "      <td>41</td>\n",
       "      <td>1000872</td>\n",
       "      <td>123</td>\n",
       "      <td>2001744010</td>\n",
       "      <td>113</td>\n",
       "      <td>3.378398e-05</td>\n",
       "      <td>2022-09-30T17:58:06.750Z</td>\n",
       "      <td>2022-09-29T22:55:10.721Z</td>\n",
       "    </tr>\n",
       "    <tr>\n",
       "      <th>997</th>\n",
       "      <td>41</td>\n",
       "      <td>1000872</td>\n",
       "      <td>213</td>\n",
       "      <td>2001744010</td>\n",
       "      <td>113</td>\n",
       "      <td>1.208563e-04</td>\n",
       "      <td>2022-09-30T17:58:06.750Z</td>\n",
       "      <td>2022-09-29T22:55:10.721Z</td>\n",
       "    </tr>\n",
       "    <tr>\n",
       "      <th>998</th>\n",
       "      <td>41</td>\n",
       "      <td>1000872</td>\n",
       "      <td>211</td>\n",
       "      <td>2001744010</td>\n",
       "      <td>113</td>\n",
       "      <td>4.407149e-07</td>\n",
       "      <td>2022-09-30T17:58:06.750Z</td>\n",
       "      <td>2022-09-29T22:55:10.721Z</td>\n",
       "    </tr>\n",
       "    <tr>\n",
       "      <th>999</th>\n",
       "      <td>41</td>\n",
       "      <td>1000872</td>\n",
       "      <td>134</td>\n",
       "      <td>2001744010</td>\n",
       "      <td>113</td>\n",
       "      <td>1.962389e-04</td>\n",
       "      <td>2022-09-30T17:58:06.750Z</td>\n",
       "      <td>2022-09-29T22:55:10.721Z</td>\n",
       "    </tr>\n",
       "  </tbody>\n",
       "</table>\n",
       "<p>1000 rows × 8 columns</p>\n",
       "</div>"
      ],
      "text/plain": [
       "     classifierId  diaObjectId  classId     alertId  trueClassId  \\\n",
       "0              41      1000487      130  2000974029          112   \n",
       "1              41      1000487      221  2000974029          112   \n",
       "2              41      1000487      134  2000974029          112   \n",
       "3              41      1000487      211  2000974029          112   \n",
       "4              41      1000487      213  2000974029          112   \n",
       "..            ...          ...      ...         ...          ...   \n",
       "995            41      1000872      214  2001744010          113   \n",
       "996            41      1000872      123  2001744010          113   \n",
       "997            41      1000872      213  2001744010          113   \n",
       "998            41      1000872      211  2001744010          113   \n",
       "999            41      1000872      134  2001744010          113   \n",
       "\n",
       "      probability       descIngestTimestamp        alertSentTimestamp  \n",
       "0    0.000000e+00  2022-11-17T23:22:45.883Z  2022-11-17T21:01:46.097Z  \n",
       "1    3.998851e-06  2022-11-17T23:22:45.883Z  2022-11-17T21:01:46.097Z  \n",
       "2    2.967518e-07  2022-11-17T23:22:45.883Z  2022-11-17T21:01:46.097Z  \n",
       "3    1.770257e-08  2022-11-17T23:22:45.883Z  2022-11-17T21:01:46.097Z  \n",
       "4    8.146125e-14  2022-11-17T23:22:45.883Z  2022-11-17T21:01:46.097Z  \n",
       "..            ...                       ...                       ...  \n",
       "995  5.679732e-06  2022-09-30T17:58:06.750Z  2022-09-29T22:55:10.721Z  \n",
       "996  3.378398e-05  2022-09-30T17:58:06.750Z  2022-09-29T22:55:10.721Z  \n",
       "997  1.208563e-04  2022-09-30T17:58:06.750Z  2022-09-29T22:55:10.721Z  \n",
       "998  4.407149e-07  2022-09-30T17:58:06.750Z  2022-09-29T22:55:10.721Z  \n",
       "999  1.962389e-04  2022-09-30T17:58:06.750Z  2022-09-29T22:55:10.721Z  \n",
       "\n",
       "[1000 rows x 8 columns]"
      ]
     },
     "execution_count": 11,
     "metadata": {},
     "output_type": "execute_result"
    }
   ],
   "source": [
    "sys.stderr.write( f\"Query start at {datetime.datetime.now().isoformat()}...\\n\" )\n",
    "query = ( 'SELECT '\n",
    "          '  \"classifierId\",\"diaObjectId\",\"classId\",\"alertId\",\"trueClassId\",\"probability\",\"descIngestTimestamp\",\"alertSentTimestamp\" '\n",
    "          'FROM elasticc_view_sourceclassifications '\n",
    "          'WHERE \"classifierId\"=41 '#' AND \"classId\"=111 AND \"trueClassId\"=111 '\n",
    "          'ORDER BY \"diaObjectId\",\"descIngestTimestamp\" '\n",
    "          'OFFSET 1000 LIMIT 1000' )\n",
    "rows = run_query( query )\n",
    "sys.stderr.write( f\"Query done at {datetime.datetime.now().isoformat()}\\n\" )\n",
    "data = pandas.DataFrame( rows )\n",
    "data"
   ]
  },
  {
   "cell_type": "markdown",
   "id": "442e4910",
   "metadata": {},
   "source": [
    "### choose one `diaObjectID` for inspection"
   ]
  },
  {
   "cell_type": "code",
   "execution_count": 12,
   "id": "0b60df52",
   "metadata": {},
   "outputs": [],
   "source": [
    "returned = np.unique(data['diaObjectId'], return_counts=True)"
   ]
  },
  {
   "cell_type": "code",
   "execution_count": 13,
   "id": "c66e451e",
   "metadata": {
    "scrolled": true
   },
   "outputs": [],
   "source": [
    "by_richness = returned[0][np.argsort(returned[1])]\n",
    "chosen = by_richness[3]\n",
    "# data[data['diaObjectId'] == chosen]"
   ]
  },
  {
   "cell_type": "code",
   "execution_count": 14,
   "id": "01c42e0e-9f94-42b3-9fdf-ea1230a3300c",
   "metadata": {},
   "outputs": [],
   "source": [
    "# chosen = richest#np.unique(data['diaObjectId'], return_counts=True)[0][4]#1006052#1003722\n",
    "one_obj_data = data[ data['diaObjectId'] == chosen]#1025381 ]\n",
    "one_obj_true = one_obj_data['trueClassId'][0]\n",
    "# one_obj_data"
   ]
  },
  {
   "cell_type": "code",
   "execution_count": 15,
   "id": "4c458a35-38c5-4b6e-a2e5-87a3e1ea6abb",
   "metadata": {},
   "outputs": [
    {
     "name": "stderr",
     "output_type": "stream",
     "text": [
      "Query start at 2023-01-07T13:50:22.791418...\n",
      "Query done at 2023-01-07T13:50:23.405375\n"
     ]
    }
   ],
   "source": [
    "# All these joins suggest we need a new view.\n",
    "sys.stderr.write( f\"Query start at {datetime.datetime.now().isoformat()}...\\n\" )\n",
    "query = ( 'SELECT '\n",
    "          '  v.\"classifierId\",v.\"diaObjectId\",v.\"classId\",v.\"alertId\",v.\"trueClassId\",v.\"probability\",v.\"alertSentTimestamp\", '\n",
    "          '  s.\"midPointTai\" '\n",
    "          'FROM elasticc_view_sourceclassifications v '\n",
    "          'INNER JOIN elasticc_diasource s ON v.\"diaSourceId\"=s.\"diaSourceId\" '\n",
    "          f'WHERE v.\"diaObjectId\"= {chosen} AND \"classId\"={one_obj_true} AND \"trueClassId\"={one_obj_true} '\n",
    "          'ORDER BY \"classifierId\",\"alertSentTimestamp\" ' )\n",
    "rows = run_query( query )\n",
    "sys.stderr.write( f\"Query done at {datetime.datetime.now().isoformat()}\\n\" )\n",
    "join_one_obj_data = pandas.DataFrame( rows )\n",
    "# join_one_obj_data"
   ]
  },
  {
   "cell_type": "code",
   "execution_count": 16,
   "id": "24789f63-e578-457e-b7ae-b4f9796cf145",
   "metadata": {},
   "outputs": [
    {
     "data": {
      "text/plain": [
       "Index(['classifierId', 'diaObjectId', 'classId', 'alertId', 'trueClassId',\n",
       "       'probability', 'alertSentTimestamp', 'midPointTai', 't'],\n",
       "      dtype='object')"
      ]
     },
     "execution_count": 16,
     "metadata": {},
     "output_type": "execute_result"
    }
   ],
   "source": [
    "pandas.set_option('display.max_rows', 500)\n",
    "join_one_obj_data['t'] = join_one_obj_data['alertSentTimestamp'].apply( lambda thing : dateutil.parser.isoparse( thing ) )\n",
    "join_one_obj_data.columns"
   ]
  },
  {
   "cell_type": "code",
   "execution_count": 17,
   "id": "c469bb87-e78b-4f89-bde8-b87e04a34ac3",
   "metadata": {},
   "outputs": [],
   "source": [
    "# classifier_info"
   ]
  },
  {
   "cell_type": "code",
   "execution_count": 18,
   "id": "46ccd5a8",
   "metadata": {},
   "outputs": [],
   "source": [
    "# for i,cfer in enumerate(classifiers):\n",
    "#     print(cfer,classifier_info[cfer][\"brokerName\"],classifier_info[cfer][\"classifierName\"],classifier_info[cfer][\"brokerVersion\"])"
   ]
  },
  {
   "cell_type": "code",
   "execution_count": 19,
   "id": "141adfce",
   "metadata": {},
   "outputs": [],
   "source": [
    "blind = False"
   ]
  },
  {
   "cell_type": "code",
   "execution_count": 20,
   "id": "8a5dfb67-f34c-4bf0-aa80-3f1642cde138",
   "metadata": {},
   "outputs": [],
   "source": [
    "    \n",
    "# # TODO: color for broker, linestyle for classifier\n",
    "\n",
    "# fig = plt.figure( figsize=(12,8), tight_layout=True )\n",
    "# ax = fig.add_subplot( 1,1,1)\n",
    "# classifiers = data['classifierId'].unique()\n",
    "# for i,cfer in enumerate(use_cfers):\n",
    "#     subdata = join_one_obj_data[ join_one_obj_data['classifierId'] == cfer ]\n",
    "#     label = f'{use_cfers[cfer][\"brokerName\"]} {use_cfers[cfer][\"classifierName\"]}'\n",
    "#     ax.plot( subdata['midPointTai'], subdata['probability'], color=f'C{i}', label=label )\n",
    "#     ax.tick_params( \"both\", labelsize=16 )\n",
    "# if ~blind:\n",
    "#     ax.legend()\n",
    "#     ax.set_title('diaObjectID='+str(chosen))#\"Jackson Pollock\" )\n",
    "# ax.set_xlabel('midPointTai (time)', fontsize=16)\n",
    "# ax.set_ylabel('probability of true class', fontsize=16)\n",
    "# fig.show()"
   ]
  },
  {
   "cell_type": "markdown",
   "id": "8ea71c9f",
   "metadata": {},
   "source": [
    "1. metric as f(time relative to characteristic time) -- TODO: ask Rick for characteristic times/scalings for all classes, should be in object truth table in the future\n",
    "2. metric as f(number of alerts)\n",
    "\n"
   ]
  },
  {
   "cell_type": "code",
   "execution_count": 21,
   "id": "0e174ed9",
   "metadata": {},
   "outputs": [],
   "source": [
    "# def flux_to_mag(flux):\n",
    "#     fluxmod = flux"
   ]
  },
  {
   "cell_type": "code",
   "execution_count": 22,
   "id": "f2a07717",
   "metadata": {},
   "outputs": [],
   "source": [
    "# chosen = np.unique(data['diaObjectId'], return_counts=True)[0][1]"
   ]
  },
  {
   "cell_type": "code",
   "execution_count": 23,
   "id": "5b4f19a5",
   "metadata": {
    "scrolled": true
   },
   "outputs": [
    {
     "name": "stderr",
     "output_type": "stream",
     "text": [
      "Query start at 2023-01-07T13:50:23.530361...\n",
      "Query done at 2023-01-07T13:50:23.850700\n"
     ]
    }
   ],
   "source": [
    "sys.stderr.write( f\"Query start at {datetime.datetime.now().isoformat()}...\\n\" )\n",
    "query = ( 'SELECT '\n",
    "         ' \"midPointTai\", \"psFlux\", \"psFluxErr\", \"filterName\" '\n",
    "         'FROM \"elasticc_diaforcedsource\" '\n",
    "         f'WHERE \"diaObjectId\" = {chosen}'\n",
    "         'ORDER BY \"midPointTai\"' )\n",
    "rows = run_query( query )\n",
    "sys.stderr.write( f\"Query done at {datetime.datetime.now().isoformat()}\\n\" )\n",
    "test_lc = pandas.DataFrame( rows )\n",
    "# test_lc"
   ]
  },
  {
   "cell_type": "code",
   "execution_count": 24,
   "id": "b56114c5",
   "metadata": {
    "scrolled": true
   },
   "outputs": [],
   "source": [
    "# test_lc"
   ]
  },
  {
   "cell_type": "code",
   "execution_count": 25,
   "id": "0e588369",
   "metadata": {},
   "outputs": [
    {
     "data": {
      "image/png": "[encoded data removed]",
      "text/plain": [
       "<Figure size 432x288 with 2 Axes>"
      ]
     },
     "metadata": {
      "needs_background": "light"
     },
     "output_type": "display_data"
    }
   ],
   "source": [
    "blind = False\n",
    "\n",
    "fig, ax = plt.subplots(2, 1, sharex=True)\n",
    "for i,band in enumerate(test_lc['filterName'].unique()):\n",
    "    one_band = test_lc[test_lc['filterName'] == band]\n",
    "    ax[0].errorbar(one_band['midPointTai'], one_band['psFlux'], yerr=one_band['psFluxErr'], \n",
    "                   fmt=\"o\", markersize=3, label=band)\n",
    "#     ax[i].set_title(band)\n",
    "# fig.legend()\n",
    "ax[0].set_ylabel('flux')\n",
    "ax[0].legend()\n",
    "\n",
    "# fig = plt.figure( figsize=(12,8), tight_layout=True )\n",
    "# ax = fig.add_subplot( 1,1,1)\n",
    "classifiers = join_one_obj_data['classifierId'].unique()\n",
    "for i,cfer in enumerate(use_cfers):\n",
    "    subdata = join_one_obj_data[ join_one_obj_data['classifierId'] == cfer ]\n",
    "    label = f'{use_cfers[cfer][\"brokerName\"]} {use_cfers[cfer][\"classifierName\"]}'\n",
    "    ax[1].plot(subdata['midPointTai'], subdata['probability'], color=f'C{i}', label=label )\n",
    "#     ax[1].tick_params( \"both\", labelsize=16 )\n",
    "if ~blind:\n",
    "    ax[1].legend(loc='lower left')\n",
    "    ax[0].set_title('diaObjectID='+str(chosen)+' of true class '+classname[one_obj_true])#\"Jackson Pollock\" )\n",
    "# ax[6].set_title('midPointTai (time)', fontsize=16)\n",
    "ax[1].set_ylabel('probability \\n of true class')#, fontsize=16)\n",
    "ax[1].set_xlabel('time (days)')\n",
    "# fig.show()\n",
    "# ax[0].set_title(str(chosen))\n",
    "\n",
    "fig.tight_layout()\n",
    "plt.subplots_adjust(wspace=0, hspace=0)\n",
    "plt.savefig(str(chosen)+'jointplot.png', dpi=300, bbox_inches='tight', pad_inches=0)"
   ]
  },
  {
   "cell_type": "code",
   "execution_count": null,
   "id": "175fff84-3189-474d-8f17-bc56fee2abf8",
   "metadata": {},
   "outputs": [],
   "source": [
    "# # Oh, the humanity\n",
    "# sys.stderr.write( f\"Query start at {datetime.datetime.now().isoformat()}...\\n\" )\n",
    "# query = ( 'SELECT '\n",
    "#           '  v.\"classifierId\",v.\"diaObjectId\",v.\"classId\",v.\"alertId\",v.\"probability\",v.\"alertSentTimestamp\", '\n",
    "#           '  s.\"midPointTai\",t.peakmjd '\n",
    "#           'FROM elasticc_view_sourceclassifications v '\n",
    "#           'INNER JOIN elasticc_diasource s ON v.\"diaSourceId\"=s.\"diaSourceId\" '\n",
    "#           'INNER JOIN elasticc_diaobjecttruth t ON v.\"diaObjectId\"=t.\"diaObjectId\" '\n",
    "#           'WHERE v.\"diaObjectId\" IN '\n",
    "#           '  ( SELECT \"diaObjectId\" FROM elasticc_diaobjecttruth WHERE gentype IN '\n",
    "#           '     ( SELECT gentype FROM elasticc_gentypeofclassid WHERE \"classId\"=111 ) '\n",
    "#           '    LIMIT 100 ) '\n",
    "#           'AND \"classId\"=111 '\n",
    "#           'ORDER BY \"classifierId\",\"alertSentTimestamp\" ' )\n",
    "# rows = run_query( query )\n",
    "# sys.stderr.write( f\"Query done at {datetime.datetime.now().isoformat()}\\n\" )\n",
    "# data = pandas.DataFrame( rows )\n",
    "# data"
   ]
  },
  {
   "cell_type": "code",
   "execution_count": null,
   "id": "3bdbbf9c-5bda-4f20-b66d-8962be63dded",
   "metadata": {},
   "outputs": [],
   "source": [
    "# data['Δt'] = data['midPointTai'] - data['peakmjd']\n",
    "# data"
   ]
  },
  {
   "cell_type": "code",
   "execution_count": null,
   "id": "ec9eb16e-eacb-40ef-8214-3c4015a066d7",
   "metadata": {},
   "outputs": [],
   "source": [
    "# onebroker = data[ data['classifierId'] == 40 ].copy()"
   ]
  },
  {
   "cell_type": "code",
   "execution_count": null,
   "id": "e5c211ad-5c23-4624-ab4d-8e6b1650bcba",
   "metadata": {},
   "outputs": [],
   "source": [
    "# onebroker"
   ]
  },
  {
   "cell_type": "code",
   "execution_count": null,
   "id": "990f5139-acbf-49c6-8c88-66f18c9f968f",
   "metadata": {},
   "outputs": [],
   "source": [
    "# plt.hist( onebroker['Δt'] )"
   ]
  },
  {
   "cell_type": "code",
   "execution_count": null,
   "id": "e7f2d539-6509-4df6-ad49-6768ae62c7ec",
   "metadata": {},
   "outputs": [],
   "source": [
    "# # This is not the right way to bin.  We have to think harder about this.\n",
    "# # If there are more observations of some objectds, those objects will\n",
    "# # get overweighted.\n",
    "# onebroker['tbin'] = numpy.floor( ( onebroker['Δt'] + 20 ) / 5. )"
   ]
  },
  {
   "cell_type": "code",
   "execution_count": null,
   "id": "3e3e3c37-04e6-47c5-9faa-30137baa5a39",
   "metadata": {},
   "outputs": [],
   "source": [
    "# thing = onebroker.groupby( 'tbin' )['probability'].apply( 'mean' )"
   ]
  },
  {
   "cell_type": "code",
   "execution_count": null,
   "id": "153dc72b-1c28-4b6b-b941-01a46e658a5a",
   "metadata": {},
   "outputs": [],
   "source": [
    "# plt.plot(thing)"
   ]
  },
  {
   "cell_type": "code",
   "execution_count": null,
   "id": "cc9ed19b-b179-4270-9124-2bb2fc75ad79",
   "metadata": {},
   "outputs": [],
   "source": [
    "# tuple(use_cfers.keys())"
   ]
  },
  {
   "cell_type": "markdown",
   "id": "367508c3-f1a7-4de7-b337-4188beefda70",
   "metadata": {},
   "source": [
    "## New Query, Alex and Rob, 2022-12-15, Waiting For A Better Title"
   ]
  },
  {
   "cell_type": "code",
   "execution_count": null,
   "id": "fa1777a6-335d-4541-a441-d98f52543683",
   "metadata": {},
   "outputs": [],
   "source": [
    "sys.stderr.write( f\"Query start at {datetime.datetime.now().isoformat()}...\\n\" )\n",
    "query = ( 'SELECT '\n",
    "          '  v.\"classifierId\",v.\"diaObjectId\",v.\"classId\",v.\"alertId\",v.\"trueClassId\",v.\"probability\",v.\"alertSentTimestamp\", '\n",
    "          '  s.\"midPointTai\"-ot.peakmjd AS deltat '\n",
    "          'FROM elasticc_view_sourceclassifications v '\n",
    "          'INNER JOIN elasticc_diasource s ON v.\"diaSourceId\"=s.\"diaSourceId\" '\n",
    "          'INNER JOIN elasticc_diaobjecttruth ot ON v.\"diaObjectId\"=ot.\"diaObjectId\" '\n",
    "          f'WHERE \"classifierId\" IN %(cfers)s AND \"trueClassId\"={one_obj_true} '\n",
    "          'ORDER BY \"diaObjectId\",\"alertSentTimestamp\" '\n",
    "          'LIMIT 10000' )\n",
    "rows = run_query( query, { 'cfers': tuple(use_cfers.keys()) } )\n",
    "sys.stderr.write( f\"Query done at {datetime.datetime.now().isoformat()}\\n\" )\n",
    "data = pandas.DataFrame( rows )\n",
    "data"
   ]
  },
  {
   "cell_type": "code",
   "execution_count": null,
   "id": "95fe88e9",
   "metadata": {},
   "outputs": [],
   "source": [
    "pre_probvecs = data.groupby(['alertId', \"classifierId\"])\n",
    "probvecs = data.set_index(['diaObjectId', \"classifierId\"])\n",
    "# for idno in data['classId'].unique():\n",
    "#     probvecs[str(idno)] = data['classId'=]\n",
    "probvecs"
   ]
  },
  {
   "cell_type": "code",
   "execution_count": null,
   "id": "78bb5842",
   "metadata": {},
   "outputs": [],
   "source": [
    "probvecs.index.levels[0]"
   ]
  },
  {
   "cell_type": "code",
   "execution_count": null,
   "id": "95e6d2fa",
   "metadata": {},
   "outputs": [],
   "source": [
    "type(plot_one)"
   ]
  },
  {
   "cell_type": "code",
   "execution_count": null,
   "id": "6e4f0d37",
   "metadata": {},
   "outputs": [],
   "source": [
    "tmp_xs"
   ]
  },
  {
   "cell_type": "code",
   "execution_count": null,
   "id": "899f489b",
   "metadata": {},
   "outputs": [],
   "source": [
    "to_plot = []\n",
    "for objectids in probvecs.index.levels[0][3:4]:\n",
    "    for classifierids in probvecs.index.levels[1]:\n",
    "        tmp_xs = probvecs.xs((objectids, classifierids)).reset_index()[['deltat', 'classId', 'bin_prob']]\n",
    "        plot_one = pandas.pivot_table(tmp_xs, \n",
    "                                      values='bin_prob',\n",
    "                                      columns='classId',\n",
    "                                     index='deltat')\n",
    "        seaborn.heatmap(plot_one)\n",
    "        plt.show()\n",
    "        \n",
    "# plt.matshow(plot_one)"
   ]
  },
  {
   "cell_type": "markdown",
   "id": "b3ae5e82",
   "metadata": {},
   "source": [
    "Next: bin the times, average values within time bin for same true type, gif of plasticc results fig 9 over time"
   ]
  },
  {
   "cell_type": "code",
   "execution_count": null,
   "id": "4bd896dd",
   "metadata": {},
   "outputs": [],
   "source": [
    "help(pandas.pivot_table)"
   ]
  },
  {
   "cell_type": "code",
   "execution_count": null,
   "id": "c061c4ff",
   "metadata": {},
   "outputs": [],
   "source": [
    "plot_one"
   ]
  },
  {
   "cell_type": "code",
   "execution_count": null,
   "id": "0b5856d8",
   "metadata": {},
   "outputs": [],
   "source": [
    "import seaborn"
   ]
  },
  {
   "cell_type": "markdown",
   "id": "0389b17f",
   "metadata": {},
   "source": [
    "TODO: "
   ]
  },
  {
   "cell_type": "code",
   "execution_count": null,
   "id": "f3c1df53",
   "metadata": {},
   "outputs": [],
   "source": [
    "plot_one.pivot_table?"
   ]
  },
  {
   "cell_type": "code",
   "execution_count": null,
   "id": "55c45667",
   "metadata": {},
   "outputs": [],
   "source": [
    "# import matplotlib as mpl\n",
    "# from matplotlib import cm\n",
    "plt.scatter(plot_one['alertId'], plot_one['classId'], s=100*plot_one['bin_prob'])"
   ]
  },
  {
   "cell_type": "code",
   "execution_count": null,
   "id": "596326b4-ad64-4269-83d8-da6668d9c98e",
   "metadata": {},
   "outputs": [],
   "source": [
    "data['diaObjectId'].unique()"
   ]
  },
  {
   "cell_type": "code",
   "execution_count": null,
   "id": "16360387",
   "metadata": {},
   "outputs": [],
   "source": [
    "plt.hist(data['classId'])"
   ]
  },
  {
   "cell_type": "code",
   "execution_count": null,
   "id": "9b445b45",
   "metadata": {},
   "outputs": [],
   "source": []
  },
  {
   "cell_type": "code",
   "execution_count": null,
   "id": "f6327b6f",
   "metadata": {},
   "outputs": [],
   "source": [
    "data[\"bin_prob\"] = data['probability'].round(decimals=2)"
   ]
  },
  {
   "cell_type": "markdown",
   "id": "7cd73f96",
   "metadata": {},
   "source": [
    "voila they sum to 1!"
   ]
  },
  {
   "cell_type": "code",
   "execution_count": null,
   "id": "578fcd9c",
   "metadata": {},
   "outputs": [],
   "source": [
    "data.groupby(['alertId', \"classifierId\"])[\"probability\"].sum()"
   ]
  },
  {
   "cell_type": "code",
   "execution_count": null,
   "id": "750b063c",
   "metadata": {},
   "outputs": [],
   "source": []
  }
 ],
 "metadata": {
  "kernelspec": {
   "display_name": "CASTOR (Python 3)",
   "language": "python",
   "name": "castor_3"
  },
  "language_info": {
   "codemirror_mode": {
    "name": "ipython",
    "version": 3
   },
   "file_extension": ".py",
   "mimetype": "text/x-python",
   "name": "python",
   "nbconvert_exporter": "python",
   "pygments_lexer": "ipython3",
   "version": "3.10.6"
  }
 },
 "nbformat": 4,
 "nbformat_minor": 5
}
