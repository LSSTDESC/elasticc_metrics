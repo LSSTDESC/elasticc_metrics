{
 "cells": [
  {
   "cell_type": "markdown",
   "id": "6aa25522",
   "metadata": {},
   "source": [
    "# Metrics of classification probabilities\n",
    "\n",
    "TODO: change double float probs to integers, for less space/volume of data, could precompute from binned probabilities, check that it can be done in sql\n",
    "\n",
    "also check the probabilities sum to 1 at some point\n",
    "and allow submissions for negative of class\n",
    "and flags for did not classify and reasons"
   ]
  },
  {
   "cell_type": "code",
   "execution_count": null,
   "id": "59c4bf2b-60f6-4a93-82ab-427082d5dd89",
   "metadata": {},
   "outputs": [],
   "source": [
    "%matplotlib inline\n",
    "import sys\n",
    "import os\n",
    "import requests\n",
    "import datetime\n",
    "import dateutil.parser\n",
    "import json\n",
    "import numpy\n",
    "import pandas\n",
    "import matplotlib.pyplot as plt\n",
    "import sklearn\n",
    "import sklearn.metrics"
   ]
  },
  {
   "cell_type": "code",
   "execution_count": null,
   "id": "041e40aa",
   "metadata": {},
   "outputs": [],
   "source": [
    " os.getenv(\"HOME\")"
   ]
  },
  {
   "cell_type": "code",
   "execution_count": null,
   "id": "7b25f98b-4a00-4c3a-b325-3d8f61d114ff",
   "metadata": {},
   "outputs": [],
   "source": [
    "url = \"https://desc-tom.lbl.gov\"\n",
    "# url = \"https://desc-tom-rknop-dev.lbl.gov\"\n",
    "\n",
    "# Somehow you need to set the \"username\" and \"password\" variables.\n",
    "# Do NOT hardcode the password into any code that will be world\n",
    "# readable.  You can use the python input statement, or, as I do\n",
    "# here, read the password from a file that is only readable by\n",
    "# you.  (This isn't perfect, but it's better than having the\n",
    "# password sit around in a world readable file.)\n",
    "username = \"aimalz\"#\"rknop\"\n",
    "with open( os.path.join( os.getenv(\"HOME\"), \"secrets\", \"tom_\"+username+\"_passwd\" ) ) as ifp:\n",
    "    password = ifp.readline().strip()"
   ]
  },
  {
   "cell_type": "code",
   "execution_count": null,
   "id": "7635002b-e109-4705-965f-a1f8514e8302",
   "metadata": {},
   "outputs": [],
   "source": [
    "rqs = requests.session()\n",
    "rqs.get( f'{url}/accounts/login/' )\n",
    "res = rqs.post( f'{url}/accounts/login/',\n",
    "                data={ \"username\": username,\n",
    "                       \"password\": password,\n",
    "                       \"csrfmiddlewaretoken\": rqs.cookies['csrftoken'] } )\n",
    "if res.status_code != 200:\n",
    "    raise RuntimeError( f\"Failed to log in; http status: {res.status_code}\" )\n",
    "if 'Please enter a correct' in res.text:\n",
    "    raise RuntimeError( \"Failed to log in.  I think.  Put in a debug break and look at res.text\" )\n",
    "rqs.headers.update( { 'X-CSRFToken': rqs.cookies['csrftoken'] } )"
   ]
  },
  {
   "cell_type": "code",
   "execution_count": null,
   "id": "1a590100-c4f3-4430-ac5a-1fc09319271b",
   "metadata": {},
   "outputs": [],
   "source": [
    "def run_query(query, subdict=None):\n",
    "    if subdict == None:\n",
    "        subdict = {}\n",
    "    result = rqs.post( f'{url}/db/runsqlquery/',\n",
    "        json={ 'query': query, 'subdict': subdict } )\n",
    "    if result.status_code != 200:\n",
    "        sys.stderr.write( f\"ERROR: got status code {result.status_code} ({result.reason})\\n\" )\n",
    "    else:\n",
    "        data = json.loads( result.text )\n",
    "        if ( 'status' not in data ) or ( data['status'] != 'ok' ):\n",
    "            sys.stderr.write( \"Got unexpected response\\n\" )\n",
    "            print(data['error'])\n",
    "        else:\n",
    "            return data['rows']"
   ]
  },
  {
   "cell_type": "code",
   "execution_count": null,
   "id": "13ee31d8-c4f8-4c5b-91f2-428950f748f5",
   "metadata": {},
   "outputs": [],
   "source": [
    "rows = run_query( 'SELECT \"classifierId\",\"brokerName\",\"brokerVersion\",'\n",
    "                  '\"classifierName\",\"classifierParams\" '\n",
    "                  'FROM elasticc_brokerclassifier' )\n",
    "classifier_info = {}\n",
    "for row in rows:\n",
    "    classifier_info[row[\"classifierId\"]] = row             \n",
    "classifier_info"
   ]
  },
  {
   "cell_type": "markdown",
   "id": "e145552d",
   "metadata": {},
   "source": [
    "TODO: select just a couple classifiers/brokers"
   ]
  },
  {
   "cell_type": "code",
   "execution_count": null,
   "id": "64f9a7d0",
   "metadata": {},
   "outputs": [],
   "source": [
    "use_cfers = {i: classifier_info[i] for i in [40,44]}\n",
    "use_cfers"
   ]
  },
  {
   "cell_type": "code",
   "execution_count": null,
   "id": "eaf39b52-5775-4d8f-85ab-274cce8764f4",
   "metadata": {},
   "outputs": [],
   "source": [
    "rows = run_query( 'SELECT DISTINCT ON (\"classId\") \"classId\",description '\n",
    "                  'FROM elasticc_gentypeofclassid '\n",
    "                  'ORDER BY \"classId\"' )\n",
    "classname = {}\n",
    "for row in rows:\n",
    "    classname[row[\"classId\"]] = row[\"description\"]"
   ]
  },
  {
   "cell_type": "code",
   "execution_count": null,
   "id": "cbae835b-1bc5-4ce0-adfe-91282711d846",
   "metadata": {},
   "outputs": [],
   "source": [
    "# consider descIngestTimestamp, alertSentTimestamp\n",
    "#\n",
    "# alertSentTimestamp -- this gets updated in the database when the original\n",
    "#    alert is sent out.  It's NOT present in the dev database, but should\n",
    "#    be in the real one\n",
    "# descIngestTimestamp -- just when we happend to suck in the broker message\n",
    "#\n",
    "# alertId -- opaque fingerprint, don't sort on it, but it does correspond to\n",
    "#   the original alert.  Different alertId = different source, i.e.\n",
    "#   measurement of the transient.\n",
    "\n",
    "sys.stderr.write( f\"Query start at {datetime.datetime.now().isoformat()}...\\n\" )\n",
    "query = ( 'SELECT '\n",
    "          '  \"classifierId\",\"diaObjectId\",\"classId\",\"alertId\",\"trueClassId\",\"probability\",\"descIngestTimestamp\" '\n",
    "          'FROM elasticc_view_sourceclassifications '\n",
    "          'ORDER BY \"diaObjectId\",\"descIngestTimestamp\",\"classifierId\" '\n",
    "          'OFFSET 100 LIMIT 100' )\n",
    "rows = run_query( query )\n",
    "sys.stderr.write( f\"Query done at {datetime.datetime.now().isoformat()}\\n\" )\n",
    "data = pandas.DataFrame( rows )\n",
    "data\n",
    "# classifiers = data.classifierId.unique()"
   ]
  },
  {
   "cell_type": "markdown",
   "id": "2618435a",
   "metadata": {},
   "source": [
    "TODO: change double float probs to integers, for less space/volume of data\n",
    "also check the probabilities sum to 1 at some point\n",
    "and allow submissions for negative of class\n",
    "and flags for did not classify and reasons"
   ]
  },
  {
   "cell_type": "code",
   "execution_count": null,
   "id": "66329af5-6a11-4a67-8b85-deb0b9273417",
   "metadata": {},
   "outputs": [],
   "source": [
    "classname"
   ]
  },
  {
   "cell_type": "code",
   "execution_count": null,
   "id": "369b3a41-7aba-4a0f-a2a1-4ade9c7f3a84",
   "metadata": {},
   "outputs": [],
   "source": [
    "sys.stderr.write( f\"Query start at {datetime.datetime.now().isoformat()}...\\n\" )\n",
    "query = ( 'SELECT '\n",
    "          '  \"classifierId\",\"diaObjectId\",\"classId\",\"alertId\",\"trueClassId\",\"probability\",\"descIngestTimestamp\",\"alertSentTimestamp\" '\n",
    "          'FROM elasticc_view_sourceclassifications '\n",
    "          'WHERE \"classifierId\"=41 AND \"classId\"=111 AND \"trueClassId\"=111 '\n",
    "          'ORDER BY \"diaObjectId\",\"descIngestTimestamp\" '\n",
    "          'OFFSET 100 LIMIT 100' )\n",
    "rows = run_query( query )\n",
    "sys.stderr.write( f\"Query done at {datetime.datetime.now().isoformat()}\\n\" )\n",
    "data = pandas.DataFrame( rows )\n",
    "data"
   ]
  },
  {
   "cell_type": "code",
   "execution_count": null,
   "id": "0b60df52",
   "metadata": {},
   "outputs": [],
   "source": [
    "import numpy as np\n",
    "np.unique(data['diaObjectId'], return_counts=True)"
   ]
  },
  {
   "cell_type": "code",
   "execution_count": null,
   "id": "797878e8",
   "metadata": {},
   "outputs": [],
   "source": [
    "chosen = 1006052#1003722"
   ]
  },
  {
   "cell_type": "code",
   "execution_count": null,
   "id": "01c42e0e-9f94-42b3-9fdf-ea1230a3300c",
   "metadata": {},
   "outputs": [],
   "source": [
    "data[ data['diaObjectId'] == chosen]#1025381 ]"
   ]
  },
  {
   "cell_type": "code",
   "execution_count": null,
   "id": "4c458a35-38c5-4b6e-a2e5-87a3e1ea6abb",
   "metadata": {},
   "outputs": [],
   "source": [
    "# All these joins suggest we need a new view.\n",
    "sys.stderr.write( f\"Query start at {datetime.datetime.now().isoformat()}...\\n\" )\n",
    "query = ( 'SELECT '\n",
    "          '  v.\"classifierId\",v.\"diaObjectId\",v.\"classId\",v.\"alertId\",v.\"trueClassId\",v.\"probability\",v.\"alertSentTimestamp\", '\n",
    "          '  s.\"midPointTai\" '\n",
    "          'FROM elasticc_view_sourceclassifications v '\n",
    "          'INNER JOIN elasticc_diasource s ON v.\"diaSourceId\"=s.\"diaSourceId\" '\n",
    "          'WHERE v.\"diaObjectId\"='+str(chosen)+' AND \"classId\"=111 AND \"trueClassId\"=111 '\n",
    "          'ORDER BY \"classifierId\",\"alertSentTimestamp\" ' )\n",
    "rows = run_query( query )\n",
    "sys.stderr.write( f\"Query done at {datetime.datetime.now().isoformat()}\\n\" )\n",
    "data = pandas.DataFrame( rows )\n",
    "data"
   ]
  },
  {
   "cell_type": "code",
   "execution_count": null,
   "id": "24789f63-e578-457e-b7ae-b4f9796cf145",
   "metadata": {},
   "outputs": [],
   "source": [
    "pandas.set_option('display.max_rows', 500)\n",
    "data['t'] = data['alertSentTimestamp'].apply( lambda thing : dateutil.parser.isoparse( thing ) )\n",
    "data.columns\n"
   ]
  },
  {
   "cell_type": "code",
   "execution_count": null,
   "id": "57159148",
   "metadata": {},
   "outputs": [],
   "source": []
  },
  {
   "cell_type": "code",
   "execution_count": null,
   "id": "c469bb87-e78b-4f89-bde8-b87e04a34ac3",
   "metadata": {},
   "outputs": [],
   "source": [
    "classifier_info"
   ]
  },
  {
   "cell_type": "code",
   "execution_count": null,
   "id": "46ccd5a8",
   "metadata": {},
   "outputs": [],
   "source": [
    "for i,cfer in enumerate(classifiers):\n",
    "    print(cfer,classifier_info[cfer][\"brokerName\"],classifier_info[cfer][\"classifierName\"],classifier_info[cfer][\"brokerVersion\"])"
   ]
  },
  {
   "cell_type": "code",
   "execution_count": null,
   "id": "141adfce",
   "metadata": {},
   "outputs": [],
   "source": [
    "blind = False"
   ]
  },
  {
   "cell_type": "code",
   "execution_count": null,
   "id": "8a5dfb67-f34c-4bf0-aa80-3f1642cde138",
   "metadata": {},
   "outputs": [],
   "source": [
    "    \n",
    "# TODO: color for broker, linestyle for classifier\n",
    "\n",
    "fig = plt.figure( figsize=(12,8), tight_layout=True )\n",
    "ax = fig.add_subplot( 1,1,1)\n",
    "classifiers = data['classifierId'].unique()\n",
    "for i,cfer in enumerate(use_cfers):\n",
    "    subdata = data[ data['classifierId'] == cfer ]\n",
    "    label = f'{use_cfers[cfer][\"brokerName\"]} {use_cfers[cfer][\"classifierName\"]}'\n",
    "    ax.plot( subdata['midPointTai'], subdata['probability'], color=f'C{i}', label=label )\n",
    "    ax.tick_params( \"both\", labelsize=16 )\n",
    "if ~blind:\n",
    "    ax.legend()\n",
    "    ax.set_title('diaObjectID='+str(chosen))#\"Jackson Pollock\" )\n",
    "ax.set_xlabel('midPointTai (time)', fontsize=16)\n",
    "ax.set_ylabel('probability of true class', fontsize=16)\n",
    "fig.show()"
   ]
  },
  {
   "cell_type": "markdown",
   "id": "8ea71c9f",
   "metadata": {},
   "source": [
    "1. metric as f(time relative to characteristic time)\n",
    "2. metric as f(number of alerts)\n",
    "\n"
   ]
  },
  {
   "cell_type": "code",
   "execution_count": null,
   "id": "175fff84-3189-474d-8f17-bc56fee2abf8",
   "metadata": {},
   "outputs": [],
   "source": [
    "# Oh, the humanity\n",
    "sys.stderr.write( f\"Query start at {datetime.datetime.now().isoformat()}...\\n\" )\n",
    "query = ( 'SELECT '\n",
    "          '  v.\"classifierId\",v.\"diaObjectId\",v.\"classId\",v.\"alertId\",v.\"probability\",v.\"alertSentTimestamp\", '\n",
    "          '  s.\"midPointTai\",t.peakmjd '\n",
    "          'FROM elasticc_view_sourceclassifications v '\n",
    "          'INNER JOIN elasticc_diasource s ON v.\"diaSourceId\"=s.\"diaSourceId\" '\n",
    "          'INNER JOIN elasticc_diaobjecttruth t ON v.\"diaObjectId\"=t.\"diaObjectId\" '\n",
    "          'WHERE v.\"diaObjectId\" IN '\n",
    "          '  ( SELECT \"diaObjectId\" FROM elasticc_diaobjecttruth WHERE gentype IN '\n",
    "          '     ( SELECT gentype FROM elasticc_gentypeofclassid WHERE \"classId\"=111 ) '\n",
    "          '    LIMIT 100 ) '\n",
    "          'AND \"classId\"=111 '\n",
    "          'ORDER BY \"classifierId\",\"alertSentTimestamp\" ' )\n",
    "rows = run_query( query )\n",
    "sys.stderr.write( f\"Query done at {datetime.datetime.now().isoformat()}\\n\" )\n",
    "data = pandas.DataFrame( rows )\n",
    "data"
   ]
  },
  {
   "cell_type": "code",
   "execution_count": null,
   "id": "3bdbbf9c-5bda-4f20-b66d-8962be63dded",
   "metadata": {},
   "outputs": [],
   "source": [
    "data['Δt'] = data['midPointTai'] - data['peakmjd']\n",
    "data"
   ]
  },
  {
   "cell_type": "code",
   "execution_count": null,
   "id": "ec9eb16e-eacb-40ef-8214-3c4015a066d7",
   "metadata": {},
   "outputs": [],
   "source": [
    "onebroker = data[ data['classifierId'] == 40 ].copy()"
   ]
  },
  {
   "cell_type": "code",
   "execution_count": null,
   "id": "e5c211ad-5c23-4624-ab4d-8e6b1650bcba",
   "metadata": {},
   "outputs": [],
   "source": [
    "onebroker"
   ]
  },
  {
   "cell_type": "code",
   "execution_count": null,
   "id": "990f5139-acbf-49c6-8c88-66f18c9f968f",
   "metadata": {},
   "outputs": [],
   "source": [
    "plt.hist( onebroker['Δt'] )"
   ]
  },
  {
   "cell_type": "code",
   "execution_count": null,
   "id": "e7f2d539-6509-4df6-ad49-6768ae62c7ec",
   "metadata": {},
   "outputs": [],
   "source": [
    "# This is not the right way to bin.  We have to think harder about this.\n",
    "# If there are more observations of some objectds, those objects will\n",
    "# get overweighted.\n",
    "onebroker['tbin'] = numpy.floor( ( onebroker['Δt'] + 20 ) / 5. )"
   ]
  },
  {
   "cell_type": "code",
   "execution_count": null,
   "id": "3e3e3c37-04e6-47c5-9faa-30137baa5a39",
   "metadata": {},
   "outputs": [],
   "source": [
    "thing = onebroker.groupby( 'tbin' )['probability'].apply( 'mean' )"
   ]
  },
  {
   "cell_type": "code",
   "execution_count": null,
   "id": "153dc72b-1c28-4b6b-b941-01a46e658a5a",
   "metadata": {},
   "outputs": [],
   "source": [
    "plt.plot(thing)"
   ]
  },
  {
   "cell_type": "code",
   "execution_count": null,
   "id": "cc9ed19b-b179-4270-9124-2bb2fc75ad79",
   "metadata": {},
   "outputs": [],
   "source": []
  },
  {
   "cell_type": "code",
   "execution_count": null,
   "id": "cd41e5bb",
   "metadata": {},
   "outputs": [],
   "source": []
  }
 ],
 "metadata": {
  "kernelspec": {
   "display_name": "CASTOR (Python 3)",
   "language": "python",
   "name": "castor_3"
  },
  "language_info": {
   "codemirror_mode": {
    "name": "ipython",
    "version": 3
   },
   "file_extension": ".py",
   "mimetype": "text/x-python",
   "name": "python",
   "nbconvert_exporter": "python",
   "pygments_lexer": "ipython3",
   "version": "3.10.6"
  }
 },
 "nbformat": 4,
 "nbformat_minor": 5
}
