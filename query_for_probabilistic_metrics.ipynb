{
 "cells": [
  {
   "cell_type": "markdown",
   "id": "6aa25522",
   "metadata": {},
   "source": [
    "# Metrics of classification probabilities\n",
    "\n",
    "TODO: change double float probs to integers, for less space/volume of data, could precompute from binned probabilities, check that it can be done in sql\n",
    "\n",
    "also check the probabilities sum to 1 at some point\n",
    "and allow submissions for negative of class\n",
    "and flags for did not classify and reasons"
   ]
  },
  {
   "cell_type": "code",
   "execution_count": 1,
   "id": "59c4bf2b-60f6-4a93-82ab-427082d5dd89",
   "metadata": {},
   "outputs": [],
   "source": [
    "%matplotlib inline\n",
    "import sys\n",
    "import os\n",
    "import requests\n",
    "import datetime\n",
    "import dateutil.parser\n",
    "import json\n",
    "import numpy\n",
    "import pandas\n",
    "import matplotlib.pyplot as plt\n",
    "import sklearn\n",
    "import sklearn.metrics"
   ]
  },
  {
   "cell_type": "code",
   "execution_count": 2,
   "id": "041e40aa",
   "metadata": {},
   "outputs": [
    {
     "data": {
      "text/plain": [
       "'/global/homes/r/raknop'"
      ]
     },
     "execution_count": 2,
     "metadata": {},
     "output_type": "execute_result"
    }
   ],
   "source": [
    " os.getenv(\"HOME\")"
   ]
  },
  {
   "cell_type": "code",
   "execution_count": 4,
   "id": "7b25f98b-4a00-4c3a-b325-3d8f61d114ff",
   "metadata": {},
   "outputs": [],
   "source": [
    "url = \"https://desc-tom.lbl.gov\"\n",
    "# url = \"https://desc-tom-rknop-dev.lbl.gov\"\n",
    "\n",
    "# Somehow you need to set the \"username\" and \"password\" variables.\n",
    "# Do NOT hardcode the password into any code that will be world\n",
    "# readable.  You can use the python input statement, or, as I do\n",
    "# here, read the password from a file that is only readable by\n",
    "# you.  (This isn't perfect, but it's better than having the\n",
    "# password sit around in a world readable file.)\n",
    "username = \"rknop\"\n",
    "with open( os.path.join( os.getenv(\"HOME\"), \"secrets\", \"tom_\"+username+\"_passwd\" ) ) as ifp:\n",
    "    password = ifp.readline().strip()"
   ]
  },
  {
   "cell_type": "code",
   "execution_count": 5,
   "id": "7635002b-e109-4705-965f-a1f8514e8302",
   "metadata": {},
   "outputs": [],
   "source": [
    "rqs = requests.session()\n",
    "rqs.get( f'{url}/accounts/login/' )\n",
    "res = rqs.post( f'{url}/accounts/login/',\n",
    "                data={ \"username\": username,\n",
    "                       \"password\": password,\n",
    "                       \"csrfmiddlewaretoken\": rqs.cookies['csrftoken'] } )\n",
    "if res.status_code != 200:\n",
    "    raise RuntimeError( f\"Failed to log in; http status: {res.status_code}\" )\n",
    "if 'Please enter a correct' in res.text:\n",
    "    raise RuntimeError( \"Failed to log in.  I think.  Put in a debug break and look at res.text\" )\n",
    "rqs.headers.update( { 'X-CSRFToken': rqs.cookies['csrftoken'] } )"
   ]
  },
  {
   "cell_type": "code",
   "execution_count": 6,
   "id": "1a590100-c4f3-4430-ac5a-1fc09319271b",
   "metadata": {},
   "outputs": [],
   "source": [
    "def run_query(query, subdict=None):\n",
    "    if subdict == None:\n",
    "        subdict = {}\n",
    "    result = rqs.post( f'{url}/db/runsqlquery/',\n",
    "        json={ 'query': query, 'subdict': subdict } )\n",
    "    if result.status_code != 200:\n",
    "        sys.stderr.write( f\"ERROR: got status code {result.status_code} ({result.reason})\\n\" )\n",
    "    else:\n",
    "        data = json.loads( result.text )\n",
    "        if ( 'status' not in data ) or ( data['status'] != 'ok' ):\n",
    "            sys.stderr.write( \"Got unexpected response\\n\" )\n",
    "            print(data['error'])\n",
    "        else:\n",
    "            return data['rows']"
   ]
  },
  {
   "cell_type": "code",
   "execution_count": 7,
   "id": "13ee31d8-c4f8-4c5b-91f2-428950f748f5",
   "metadata": {},
   "outputs": [
    {
     "data": {
      "text/plain": [
       "{36: {'classifierId': 36,\n",
       "  'brokerName': 'AMPEL',\n",
       "  'brokerVersion': 'v0.2',\n",
       "  'classifierName': 'ElasticcLiveSNGuess',\n",
       "  'classifierParams': 'XGBUnified+Parsnip04'},\n",
       " 37: {'classifierId': 37,\n",
       "  'brokerName': 'AMPEL',\n",
       "  'brokerVersion': 'v0.2',\n",
       "  'classifierName': 'ElasticcLive',\n",
       "  'classifierParams': 'XGBUnified+Parsnip04'},\n",
       " 38: {'classifierId': 38,\n",
       "  'brokerName': 'AMPEL',\n",
       "  'brokerVersion': 'v0.2',\n",
       "  'classifierName': 'ElasticcLiveSNGuessParsnip',\n",
       "  'classifierParams': 'XGBUnified+Parsnip04'},\n",
       " 39: {'classifierId': 39,\n",
       "  'brokerName': 'AMPEL',\n",
       "  'brokerVersion': 'v0.2',\n",
       "  'classifierName': 'ElasticcLiveSNGuessParsnipPrior',\n",
       "  'classifierParams': 'XGBUnified+Parsnip04'},\n",
       " 40: {'classifierId': 40,\n",
       "  'brokerName': 'ALeRCE',\n",
       "  'brokerVersion': '3.1.0',\n",
       "  'classifierName': 'balto',\n",
       "  'classifierParams': '3.1.0'},\n",
       " 41: {'classifierId': 41,\n",
       "  'brokerName': 'ALeRCE',\n",
       "  'brokerVersion': '1.0.0',\n",
       "  'classifierName': 'messi',\n",
       "  'classifierParams': '1.0.0'},\n",
       " 42: {'classifierId': 42,\n",
       "  'brokerName': 'ALeRCE',\n",
       "  'brokerVersion': '2.0.1',\n",
       "  'classifierName': 'toretto',\n",
       "  'classifierParams': '2.0.1'},\n",
       " 43: {'classifierId': 43,\n",
       "  'brokerName': 'ANTARES',\n",
       "  'brokerVersion': '2.0.0',\n",
       "  'classifierName': 'LightGBM_filter',\n",
       "  'classifierParams': 'v3'},\n",
       " 44: {'classifierId': 44,\n",
       "  'brokerName': 'ANTARES',\n",
       "  'brokerVersion': '2.0.0',\n",
       "  'classifierName': 'LiCuParsnip_filter',\n",
       "  'classifierParams': 'v2'},\n",
       " 45: {'classifierId': 45,\n",
       "  'brokerName': 'Fink',\n",
       "  'brokerVersion': '2.4',\n",
       "  'classifierName': 'AGN classifier version 1.0',\n",
       "  'classifierParams': 'Probability to be an AGN based on a Random Forest classifier'},\n",
       " 46: {'classifierId': 46,\n",
       "  'brokerName': 'Fink',\n",
       "  'brokerVersion': '2.4',\n",
       "  'classifierName': 'AGN classifier version 1.0',\n",
       "  'classifierParams': 'Probability to NOT be an AGN based on a Random Forest classifier'},\n",
       " 47: {'classifierId': 47,\n",
       "  'brokerName': 'Fink',\n",
       "  'brokerVersion': '2.4',\n",
       "  'classifierName': 'SuperNNova SN Ia classifier version 1.0',\n",
       "  'classifierParams': 'Probability to be a SN Ia based on SuperNNova'},\n",
       " 48: {'classifierId': 48,\n",
       "  'brokerName': 'Fink',\n",
       "  'brokerVersion': '2.4',\n",
       "  'classifierName': 'SuperNNova SN Ia classifier version 1.0',\n",
       "  'classifierParams': 'Probability to NOT be a SN Ia based on SuperNNova'},\n",
       " 49: {'classifierId': 49,\n",
       "  'brokerName': 'Fink',\n",
       "  'brokerVersion': '2.4',\n",
       "  'classifierName': 'SuperNNova broad classifier version 1.0',\n",
       "  'classifierParams': 'Level 1 classifier based on SuperNNova'},\n",
       " 50: {'classifierId': 50,\n",
       "  'brokerName': 'Fink',\n",
       "  'brokerVersion': '2.4',\n",
       "  'classifierName': 'CATS broad classifier version 1.0',\n",
       "  'classifierParams': 'Level 1 classifier based on the CBPF Algorithm for Transient Search'},\n",
       " 51: {'classifierId': 51,\n",
       "  'brokerName': 'Fink',\n",
       "  'brokerVersion': '2.4',\n",
       "  'classifierName': 'CATS fine classifier version 1.0',\n",
       "  'classifierParams': 'Level 2 classifier based on the CBPF Algorithm for Transient Search'},\n",
       " 52: {'classifierId': 52,\n",
       "  'brokerName': 'Fink',\n",
       "  'brokerVersion': '2.4',\n",
       "  'classifierName': 'EarlySN classifier version 1.0',\n",
       "  'classifierParams': 'Probability to be an early SN Ia based on a Random Forest classifier'},\n",
       " 53: {'classifierId': 53,\n",
       "  'brokerName': 'Fink',\n",
       "  'brokerVersion': '2.4',\n",
       "  'classifierName': 'EarlySN classifier version 1.0',\n",
       "  'classifierParams': 'Probability to NOT be an early SN Ia based on a Random Forest classifier'},\n",
       " 54: {'classifierId': 54,\n",
       "  'brokerName': 'Fink',\n",
       "  'brokerVersion': '2.4',\n",
       "  'classifierName': 'T2 classifier version 1.0',\n",
       "  'classifierParams': 'Level 1 classifier based on Time-Series Transformer'},\n",
       " 55: {'classifierId': 55,\n",
       "  'brokerName': 'ANTARES',\n",
       "  'brokerVersion': '2.0.0',\n",
       "  'classifierName': 'Astrorapid_filter',\n",
       "  'classifierParams': 'known_redshift=True'},\n",
       " 56: {'classifierId': 56,\n",
       "  'brokerName': 'Fink',\n",
       "  'brokerVersion': '2.5',\n",
       "  'classifierName': 'AGN classifier',\n",
       "  'classifierParams': 'version 1.0'},\n",
       " 57: {'classifierId': 57,\n",
       "  'brokerName': 'Fink',\n",
       "  'brokerVersion': '2.5',\n",
       "  'classifierName': 'SuperNNova SN Ia classifier',\n",
       "  'classifierParams': 'version 1.0'},\n",
       " 58: {'classifierId': 58,\n",
       "  'brokerName': 'Fink',\n",
       "  'brokerVersion': '2.5',\n",
       "  'classifierName': 'SuperNNova broad classifier version 1.0',\n",
       "  'classifierParams': 'Level 1 classifier based on SuperNNova'},\n",
       " 59: {'classifierId': 59,\n",
       "  'brokerName': 'Fink',\n",
       "  'brokerVersion': '2.5',\n",
       "  'classifierName': 'CATS broad classifier version 1.0',\n",
       "  'classifierParams': 'Level 1 classifier based on the CBPF Algorithm for Transient Search'},\n",
       " 60: {'classifierId': 60,\n",
       "  'brokerName': 'Fink',\n",
       "  'brokerVersion': '2.5',\n",
       "  'classifierName': 'CATS fine classifier version 1.0',\n",
       "  'classifierParams': 'Level 2 classifier based on the CBPF Algorithm for Transient Search'},\n",
       " 61: {'classifierId': 61,\n",
       "  'brokerName': 'Fink',\n",
       "  'brokerVersion': '2.5',\n",
       "  'classifierName': 'EarlySN classifier',\n",
       "  'classifierParams': 'version 1.0'},\n",
       " 62: {'classifierId': 62,\n",
       "  'brokerName': 'Fink',\n",
       "  'brokerVersion': '2.5',\n",
       "  'classifierName': 'T2 classifier version 1.0',\n",
       "  'classifierParams': 'Level 1 classifier based on Time-Series Transformer'},\n",
       " 63: {'classifierId': 63,\n",
       "  'brokerName': 'Fink',\n",
       "  'brokerVersion': '2.5',\n",
       "  'classifierName': 'AGN classifier',\n",
       "  'classifierParams': 'version 1.1'},\n",
       " 64: {'classifierId': 64,\n",
       "  'brokerName': 'AMPEL',\n",
       "  'brokerVersion': 'v0.2',\n",
       "  'classifierName': 'ElasticcLiveSNGuess',\n",
       "  'classifierParams': 'XGBUnified+Parsnip05'},\n",
       " 65: {'classifierId': 65,\n",
       "  'brokerName': 'AMPEL',\n",
       "  'brokerVersion': 'v0.2',\n",
       "  'classifierName': 'ElasticcLiveSNGuessParsnip',\n",
       "  'classifierParams': 'XGBUnified+Parsnip05'},\n",
       " 66: {'classifierId': 66,\n",
       "  'brokerName': 'AMPEL',\n",
       "  'brokerVersion': 'v0.2',\n",
       "  'classifierName': 'ElasticcLiveSNGuessParsnipPrior',\n",
       "  'classifierParams': 'XGBUnified+Parsnip05'},\n",
       " 67: {'classifierId': 67,\n",
       "  'brokerName': 'Fink',\n",
       "  'brokerVersion': '2.6',\n",
       "  'classifierName': 'AGN classifier',\n",
       "  'classifierParams': 'version 1.2'},\n",
       " 68: {'classifierId': 68,\n",
       "  'brokerName': 'Fink',\n",
       "  'brokerVersion': '2.6',\n",
       "  'classifierName': 'SuperNNova SN Ia classifier',\n",
       "  'classifierParams': 'version 1.1'},\n",
       " 69: {'classifierId': 69,\n",
       "  'brokerName': 'Fink',\n",
       "  'brokerVersion': '2.6',\n",
       "  'classifierName': 'SuperNNova broad classifier',\n",
       "  'classifierParams': 'version 1.1'},\n",
       " 70: {'classifierId': 70,\n",
       "  'brokerName': 'Fink',\n",
       "  'brokerVersion': '2.6',\n",
       "  'classifierName': 'CATS fine classifier',\n",
       "  'classifierParams': 'version 2.0'},\n",
       " 71: {'classifierId': 71,\n",
       "  'brokerName': 'Fink',\n",
       "  'brokerVersion': '2.6',\n",
       "  'classifierName': 'EarlySN classifier',\n",
       "  'classifierParams': 'version 1.0'},\n",
       " 72: {'classifierId': 72,\n",
       "  'brokerName': 'Fink',\n",
       "  'brokerVersion': '2.6',\n",
       "  'classifierName': 'T2 classifier',\n",
       "  'classifierParams': 'version 1.0'},\n",
       " 73: {'classifierId': 73,\n",
       "  'brokerName': 'ANTARES',\n",
       "  'brokerVersion': '2.0.0',\n",
       "  'classifierName': 'REFLECT_v1',\n",
       "  'classifierParams': 'v1'},\n",
       " 74: {'classifierId': 74,\n",
       "  'brokerName': 'Fink',\n",
       "  'brokerVersion': '2.7',\n",
       "  'classifierName': 'AGN classifier',\n",
       "  'classifierParams': 'version 1.2'},\n",
       " 75: {'classifierId': 75,\n",
       "  'brokerName': 'Fink',\n",
       "  'brokerVersion': '2.7',\n",
       "  'classifierName': 'SuperNNova SN Ia classifier',\n",
       "  'classifierParams': 'version 1.1'},\n",
       " 76: {'classifierId': 76,\n",
       "  'brokerName': 'Fink',\n",
       "  'brokerVersion': '2.7',\n",
       "  'classifierName': 'SuperNNova broad classifier',\n",
       "  'classifierParams': 'version 1.1'},\n",
       " 77: {'classifierId': 77,\n",
       "  'brokerName': 'Fink',\n",
       "  'brokerVersion': '2.7',\n",
       "  'classifierName': 'CATS fine classifier',\n",
       "  'classifierParams': 'version 2.0'},\n",
       " 78: {'classifierId': 78,\n",
       "  'brokerName': 'Fink',\n",
       "  'brokerVersion': '2.7',\n",
       "  'classifierName': 'EarlySN classifier',\n",
       "  'classifierParams': 'version 1.0'},\n",
       " 79: {'classifierId': 79,\n",
       "  'brokerName': 'Fink',\n",
       "  'brokerVersion': '2.7',\n",
       "  'classifierName': 'T2 classifier',\n",
       "  'classifierParams': 'version 1.0'},\n",
       " 80: {'classifierId': 80,\n",
       "  'brokerName': 'ALeRCE',\n",
       "  'brokerVersion': '2.0.0',\n",
       "  'classifierName': 'barney',\n",
       "  'classifierParams': '2.0.0'},\n",
       " 81: {'classifierId': 81,\n",
       "  'brokerName': 'AMPEL',\n",
       "  'brokerVersion': 'v0.3',\n",
       "  'classifierName': 'ElasticcLiveSNGuess',\n",
       "  'classifierParams': 'XGBUnified+Parsnip05'},\n",
       " 82: {'classifierId': 82,\n",
       "  'brokerName': 'AMPEL',\n",
       "  'brokerVersion': 'v0.3',\n",
       "  'classifierName': 'ElasticcLiveSNGuessParsnip',\n",
       "  'classifierParams': 'XGBUnified+Parsnip05'},\n",
       " 83: {'classifierId': 83,\n",
       "  'brokerName': 'AMPEL',\n",
       "  'brokerVersion': 'v0.3',\n",
       "  'classifierName': 'ElasticcLiveSNGuessParsnipPrior',\n",
       "  'classifierParams': 'XGBUnified+Parsnip05'},\n",
       " 84: {'classifierId': 84,\n",
       "  'brokerName': 'Fink',\n",
       "  'brokerVersion': '2.7',\n",
       "  'classifierName': 'AGN classifier',\n",
       "  'classifierParams': 'version 2.0'},\n",
       " 85: {'classifierId': 85,\n",
       "  'brokerName': 'Fink',\n",
       "  'brokerVersion': '2.7',\n",
       "  'classifierName': 'CATS fine classifier',\n",
       "  'classifierParams': 'version 3.0'},\n",
       " 86: {'classifierId': 86,\n",
       "  'brokerName': 'ANTARES',\n",
       "  'brokerVersion': '2.0.0',\n",
       "  'classifierName': 'REFLECT_subclass_v1',\n",
       "  'classifierParams': 'v1'}}"
      ]
     },
     "execution_count": 7,
     "metadata": {},
     "output_type": "execute_result"
    }
   ],
   "source": [
    "rows = run_query( 'SELECT \"classifierId\",\"brokerName\",\"brokerVersion\",'\n",
    "                  '\"classifierName\",\"classifierParams\" '\n",
    "                  'FROM elasticc_brokerclassifier' )\n",
    "classifier_info = {}\n",
    "for row in rows:\n",
    "    classifier_info[row[\"classifierId\"]] = row             \n",
    "classifier_info"
   ]
  },
  {
   "cell_type": "markdown",
   "id": "e145552d",
   "metadata": {},
   "source": [
    "TODO: select just a couple classifiers/brokers"
   ]
  },
  {
   "cell_type": "code",
   "execution_count": 8,
   "id": "64f9a7d0",
   "metadata": {},
   "outputs": [
    {
     "data": {
      "text/plain": [
       "{40: {'classifierId': 40,\n",
       "  'brokerName': 'ALeRCE',\n",
       "  'brokerVersion': '3.1.0',\n",
       "  'classifierName': 'balto',\n",
       "  'classifierParams': '3.1.0'},\n",
       " 44: {'classifierId': 44,\n",
       "  'brokerName': 'ANTARES',\n",
       "  'brokerVersion': '2.0.0',\n",
       "  'classifierName': 'LiCuParsnip_filter',\n",
       "  'classifierParams': 'v2'}}"
      ]
     },
     "execution_count": 8,
     "metadata": {},
     "output_type": "execute_result"
    }
   ],
   "source": [
    "use_cfers = {i: classifier_info[i] for i in [40,44]}\n",
    "use_cfers"
   ]
  },
  {
   "cell_type": "code",
   "execution_count": 9,
   "id": "eaf39b52-5775-4d8f-85ab-274cce8764f4",
   "metadata": {},
   "outputs": [],
   "source": [
    "rows = run_query( 'SELECT DISTINCT ON (\"classId\") \"classId\",description '\n",
    "                  'FROM elasticc_gentypeofclassid '\n",
    "                  'ORDER BY \"classId\"' )\n",
    "classname = {}\n",
    "for row in rows:\n",
    "    classname[row[\"classId\"]] = row[\"description\"]"
   ]
  },
  {
   "cell_type": "code",
   "execution_count": 10,
   "id": "6e2140e7-f9be-4835-a298-f9903aeb357f",
   "metadata": {},
   "outputs": [
    {
     "data": {
      "text/plain": [
       "{0: 'Static/Other',\n",
       " 1: 'Non-Recurring',\n",
       " 2: 'Recurring',\n",
       " 10: 'Non-Recurring/Other',\n",
       " 11: 'SN-like',\n",
       " 12: 'Fast',\n",
       " 13: 'Long',\n",
       " 20: 'Recurring/Other',\n",
       " 21: 'Periodic',\n",
       " 22: 'Non-Periodic',\n",
       " 110: 'SN-like/Other',\n",
       " 111: 'Ia',\n",
       " 112: 'Ib/c',\n",
       " 113: 'II',\n",
       " 114: 'Iax',\n",
       " 115: '91bg',\n",
       " 120: 'Fast/Other',\n",
       " 121: 'KN',\n",
       " 122: 'M-dwarf Flare',\n",
       " 123: 'Dwarf Nova',\n",
       " 124: 'uLens',\n",
       " 130: 'Long/Other',\n",
       " 131: 'SLSN',\n",
       " 132: 'TDE',\n",
       " 133: 'ILOT',\n",
       " 134: 'CART',\n",
       " 135: 'PISN',\n",
       " 210: 'Periodic/Other',\n",
       " 211: 'Cepheid',\n",
       " 212: 'RR Lyrae',\n",
       " 213: 'Delta Scuti',\n",
       " 214: 'EB',\n",
       " 215: 'LPV/Mira',\n",
       " 220: 'Non-Periodic/Other',\n",
       " 221: 'AGN'}"
      ]
     },
     "execution_count": 10,
     "metadata": {},
     "output_type": "execute_result"
    }
   ],
   "source": [
    "classname"
   ]
  },
  {
   "cell_type": "markdown",
   "id": "67b5a619-ddb8-4151-90d3-3a9fdcc11e0b",
   "metadata": {},
   "source": [
    "## Everything above here is setup.  Run all that.  Then pick and choose below."
   ]
  },
  {
   "cell_type": "code",
   "execution_count": null,
   "id": "cbae835b-1bc5-4ce0-adfe-91282711d846",
   "metadata": {},
   "outputs": [],
   "source": [
    "# consider descIngestTimestamp, alertSentTimestamp\n",
    "#\n",
    "# alertSentTimestamp -- this gets updated in the database when the original\n",
    "#    alert is sent out.  It's NOT present in the dev database, but should\n",
    "#    be in the real one\n",
    "# descIngestTimestamp -- just when we happend to suck in the broker message\n",
    "#\n",
    "# alertId -- opaque fingerprint, don't sort on it, but it does correspond to\n",
    "#   the original alert.  Different alertId = different source, i.e.\n",
    "#   measurement of the transient.\n",
    "\n",
    "sys.stderr.write( f\"Query start at {datetime.datetime.now().isoformat()}...\\n\" )\n",
    "query = ( 'SELECT '\n",
    "          '  \"classifierId\",\"diaObjectId\",\"classId\",\"alertId\",\"trueClassId\",\"probability\",\"descIngestTimestamp\" '\n",
    "          'FROM elasticc_view_sourceclassifications '\n",
    "          'ORDER BY \"diaObjectId\",\"descIngestTimestamp\",\"classifierId\" '\n",
    "          'OFFSET 100 LIMIT 100' )\n",
    "rows = run_query( query )\n",
    "sys.stderr.write( f\"Query done at {datetime.datetime.now().isoformat()}\\n\" )\n",
    "data = pandas.DataFrame( rows )\n",
    "data\n",
    "# classifiers = data.classifierId.unique()"
   ]
  },
  {
   "cell_type": "markdown",
   "id": "2618435a",
   "metadata": {},
   "source": [
    "TODO: change double float probs to integers, for less space/volume of data\n",
    "also check the probabilities sum to 1 at some point\n",
    "and allow submissions for negative of class\n",
    "and flags for did not classify and reasons"
   ]
  },
  {
   "cell_type": "code",
   "execution_count": null,
   "id": "66329af5-6a11-4a67-8b85-deb0b9273417",
   "metadata": {},
   "outputs": [],
   "source": [
    "classname"
   ]
  },
  {
   "cell_type": "code",
   "execution_count": null,
   "id": "369b3a41-7aba-4a0f-a2a1-4ade9c7f3a84",
   "metadata": {},
   "outputs": [],
   "source": [
    "sys.stderr.write( f\"Query start at {datetime.datetime.now().isoformat()}...\\n\" )\n",
    "query = ( 'SELECT '\n",
    "          '  \"classifierId\",\"diaObjectId\",\"classId\",\"alertId\",\"trueClassId\",\"probability\",\"descIngestTimestamp\",\"alertSentTimestamp\" '\n",
    "          'FROM elasticc_view_sourceclassifications '\n",
    "          'WHERE \"classifierId\"=41 AND \"classId\"=111 AND \"trueClassId\"=111 '\n",
    "          'ORDER BY \"diaObjectId\",\"descIngestTimestamp\" '\n",
    "          'OFFSET 100 LIMIT 100' )\n",
    "rows = run_query( query )\n",
    "sys.stderr.write( f\"Query done at {datetime.datetime.now().isoformat()}\\n\" )\n",
    "data = pandas.DataFrame( rows )\n",
    "data"
   ]
  },
  {
   "cell_type": "code",
   "execution_count": null,
   "id": "0b60df52",
   "metadata": {},
   "outputs": [],
   "source": [
    "import numpy as np\n",
    "np.unique(data['diaObjectId'], return_counts=True)"
   ]
  },
  {
   "cell_type": "code",
   "execution_count": null,
   "id": "797878e8",
   "metadata": {},
   "outputs": [],
   "source": [
    "chosen = 1006052#1003722"
   ]
  },
  {
   "cell_type": "code",
   "execution_count": null,
   "id": "01c42e0e-9f94-42b3-9fdf-ea1230a3300c",
   "metadata": {},
   "outputs": [],
   "source": [
    "data[ data['diaObjectId'] == chosen]#1025381 ]"
   ]
  },
  {
   "cell_type": "code",
   "execution_count": null,
   "id": "4c458a35-38c5-4b6e-a2e5-87a3e1ea6abb",
   "metadata": {},
   "outputs": [],
   "source": [
    "# All these joins suggest we need a new view.\n",
    "sys.stderr.write( f\"Query start at {datetime.datetime.now().isoformat()}...\\n\" )\n",
    "query = ( 'SELECT '\n",
    "          '  v.\"classifierId\",v.\"diaObjectId\",v.\"classId\",v.\"alertId\",v.\"trueClassId\",v.\"probability\",v.\"alertSentTimestamp\", '\n",
    "          '  s.\"midPointTai\" '\n",
    "          'FROM elasticc_view_sourceclassifications v '\n",
    "          'INNER JOIN elasticc_diasource s ON v.\"diaSourceId\"=s.\"diaSourceId\" '\n",
    "          'WHERE v.\"diaObjectId\"='+str(chosen)+' AND \"classId\"=111 AND \"trueClassId\"=111 '\n",
    "          'ORDER BY \"classifierId\",\"alertSentTimestamp\" ' )\n",
    "rows = run_query( query )\n",
    "sys.stderr.write( f\"Query done at {datetime.datetime.now().isoformat()}\\n\" )\n",
    "data = pandas.DataFrame( rows )\n",
    "data"
   ]
  },
  {
   "cell_type": "code",
   "execution_count": null,
   "id": "24789f63-e578-457e-b7ae-b4f9796cf145",
   "metadata": {},
   "outputs": [],
   "source": [
    "pandas.set_option('display.max_rows', 500)\n",
    "data['t'] = data['alertSentTimestamp'].apply( lambda thing : dateutil.parser.isoparse( thing ) )\n",
    "data.columns\n"
   ]
  },
  {
   "cell_type": "code",
   "execution_count": null,
   "id": "57159148",
   "metadata": {},
   "outputs": [],
   "source": []
  },
  {
   "cell_type": "code",
   "execution_count": null,
   "id": "c469bb87-e78b-4f89-bde8-b87e04a34ac3",
   "metadata": {},
   "outputs": [],
   "source": [
    "classifier_info"
   ]
  },
  {
   "cell_type": "code",
   "execution_count": null,
   "id": "46ccd5a8",
   "metadata": {},
   "outputs": [],
   "source": [
    "for i,cfer in enumerate(classifiers):\n",
    "    print(cfer,classifier_info[cfer][\"brokerName\"],classifier_info[cfer][\"classifierName\"],classifier_info[cfer][\"brokerVersion\"])"
   ]
  },
  {
   "cell_type": "code",
   "execution_count": null,
   "id": "141adfce",
   "metadata": {},
   "outputs": [],
   "source": [
    "blind = False"
   ]
  },
  {
   "cell_type": "code",
   "execution_count": null,
   "id": "8a5dfb67-f34c-4bf0-aa80-3f1642cde138",
   "metadata": {},
   "outputs": [],
   "source": [
    "    \n",
    "# TODO: color for broker, linestyle for classifier\n",
    "\n",
    "fig = plt.figure( figsize=(12,8), tight_layout=True )\n",
    "ax = fig.add_subplot( 1,1,1)\n",
    "classifiers = data['classifierId'].unique()\n",
    "for i,cfer in enumerate(use_cfers):\n",
    "    subdata = data[ data['classifierId'] == cfer ]\n",
    "    label = f'{use_cfers[cfer][\"brokerName\"]} {use_cfers[cfer][\"classifierName\"]}'\n",
    "    ax.plot( subdata['midPointTai'], subdata['probability'], color=f'C{i}', label=label )\n",
    "    ax.tick_params( \"both\", labelsize=16 )\n",
    "if ~blind:\n",
    "    ax.legend()\n",
    "    ax.set_title('diaObjectID='+str(chosen))#\"Jackson Pollock\" )\n",
    "ax.set_xlabel('midPointTai (time)', fontsize=16)\n",
    "ax.set_ylabel('probability of true class', fontsize=16)\n",
    "fig.show()"
   ]
  },
  {
   "cell_type": "markdown",
   "id": "8ea71c9f",
   "metadata": {},
   "source": [
    "1. metric as f(time relative to characteristic time)\n",
    "2. metric as f(number of alerts)\n",
    "\n"
   ]
  },
  {
   "cell_type": "code",
   "execution_count": null,
   "id": "175fff84-3189-474d-8f17-bc56fee2abf8",
   "metadata": {},
   "outputs": [],
   "source": [
    "# Oh, the humanity\n",
    "sys.stderr.write( f\"Query start at {datetime.datetime.now().isoformat()}...\\n\" )\n",
    "query = ( 'SELECT '\n",
    "          '  v.\"classifierId\",v.\"diaObjectId\",v.\"classId\",v.\"alertId\",v.\"probability\",v.\"alertSentTimestamp\", '\n",
    "          '  s.\"midPointTai\",t.peakmjd '\n",
    "          'FROM elasticc_view_sourceclassifications v '\n",
    "          'INNER JOIN elasticc_diasource s ON v.\"diaSourceId\"=s.\"diaSourceId\" '\n",
    "          'INNER JOIN elasticc_diaobjecttruth t ON v.\"diaObjectId\"=t.\"diaObjectId\" '\n",
    "          'WHERE v.\"diaObjectId\" IN '\n",
    "          '  ( SELECT \"diaObjectId\" FROM elasticc_diaobjecttruth WHERE gentype IN '\n",
    "          '     ( SELECT gentype FROM elasticc_gentypeofclassid WHERE \"classId\"=111 ) '\n",
    "          '    LIMIT 100 ) '\n",
    "          'AND \"classId\"=111 '\n",
    "          'ORDER BY \"classifierId\",\"alertSentTimestamp\" ' )\n",
    "rows = run_query( query )\n",
    "sys.stderr.write( f\"Query done at {datetime.datetime.now().isoformat()}\\n\" )\n",
    "data = pandas.DataFrame( rows )\n",
    "data"
   ]
  },
  {
   "cell_type": "code",
   "execution_count": null,
   "id": "3bdbbf9c-5bda-4f20-b66d-8962be63dded",
   "metadata": {},
   "outputs": [],
   "source": [
    "data['Δt'] = data['midPointTai'] - data['peakmjd']\n",
    "data"
   ]
  },
  {
   "cell_type": "code",
   "execution_count": null,
   "id": "ec9eb16e-eacb-40ef-8214-3c4015a066d7",
   "metadata": {},
   "outputs": [],
   "source": [
    "onebroker = data[ data['classifierId'] == 40 ].copy()"
   ]
  },
  {
   "cell_type": "code",
   "execution_count": null,
   "id": "e5c211ad-5c23-4624-ab4d-8e6b1650bcba",
   "metadata": {},
   "outputs": [],
   "source": [
    "onebroker"
   ]
  },
  {
   "cell_type": "code",
   "execution_count": null,
   "id": "990f5139-acbf-49c6-8c88-66f18c9f968f",
   "metadata": {},
   "outputs": [],
   "source": [
    "plt.hist( onebroker['Δt'] )"
   ]
  },
  {
   "cell_type": "code",
   "execution_count": null,
   "id": "e7f2d539-6509-4df6-ad49-6768ae62c7ec",
   "metadata": {},
   "outputs": [],
   "source": [
    "# This is not the right way to bin.  We have to think harder about this.\n",
    "# If there are more observations of some objectds, those objects will\n",
    "# get overweighted.\n",
    "onebroker['tbin'] = numpy.floor( ( onebroker['Δt'] + 20 ) / 5. )"
   ]
  },
  {
   "cell_type": "code",
   "execution_count": null,
   "id": "3e3e3c37-04e6-47c5-9faa-30137baa5a39",
   "metadata": {},
   "outputs": [],
   "source": [
    "thing = onebroker.groupby( 'tbin' )['probability'].apply( 'mean' )"
   ]
  },
  {
   "cell_type": "code",
   "execution_count": null,
   "id": "153dc72b-1c28-4b6b-b941-01a46e658a5a",
   "metadata": {},
   "outputs": [],
   "source": [
    "plt.plot(thing)"
   ]
  },
  {
   "cell_type": "code",
   "execution_count": 14,
   "id": "cc9ed19b-b179-4270-9124-2bb2fc75ad79",
   "metadata": {},
   "outputs": [
    {
     "data": {
      "text/plain": [
       "(40, 44)"
      ]
     },
     "execution_count": 14,
     "metadata": {},
     "output_type": "execute_result"
    }
   ],
   "source": [
    "tuple(use_cfers.keys())"
   ]
  },
  {
   "cell_type": "markdown",
   "id": "367508c3-f1a7-4de7-b337-4188beefda70",
   "metadata": {},
   "source": [
    "## New Query, Alex and Rob, 2022-12-15, Waiting For A Better Title"
   ]
  },
  {
   "cell_type": "code",
   "execution_count": 22,
   "id": "fa1777a6-335d-4541-a441-d98f52543683",
   "metadata": {},
   "outputs": [
    {
     "name": "stderr",
     "output_type": "stream",
     "text": [
      "Query start at 2022-12-15T11:19:46.137525...\n",
      "Query done at 2022-12-15T11:19:48.844291\n"
     ]
    },
    {
     "data": {
      "text/html": [
       "<div>\n",
       "<style scoped>\n",
       "    .dataframe tbody tr th:only-of-type {\n",
       "        vertical-align: middle;\n",
       "    }\n",
       "\n",
       "    .dataframe tbody tr th {\n",
       "        vertical-align: top;\n",
       "    }\n",
       "\n",
       "    .dataframe thead th {\n",
       "        text-align: right;\n",
       "    }\n",
       "</style>\n",
       "<table border=\"1\" class=\"dataframe\">\n",
       "  <thead>\n",
       "    <tr style=\"text-align: right;\">\n",
       "      <th></th>\n",
       "      <th>classifierId</th>\n",
       "      <th>diaObjectId</th>\n",
       "      <th>classId</th>\n",
       "      <th>alertId</th>\n",
       "      <th>trueClassId</th>\n",
       "      <th>probability</th>\n",
       "      <th>alertSentTimestamp</th>\n",
       "      <th>deltat</th>\n",
       "    </tr>\n",
       "  </thead>\n",
       "  <tbody>\n",
       "    <tr>\n",
       "      <th>0</th>\n",
       "      <td>40</td>\n",
       "      <td>1000267</td>\n",
       "      <td>130</td>\n",
       "      <td>2000534000</td>\n",
       "      <td>111</td>\n",
       "      <td>0.000000</td>\n",
       "      <td>2022-12-04T22:34:16.368Z</td>\n",
       "      <td>-2.7723</td>\n",
       "    </tr>\n",
       "    <tr>\n",
       "      <th>1</th>\n",
       "      <td>40</td>\n",
       "      <td>1000267</td>\n",
       "      <td>120</td>\n",
       "      <td>2000534000</td>\n",
       "      <td>111</td>\n",
       "      <td>0.000000</td>\n",
       "      <td>2022-12-04T22:34:16.368Z</td>\n",
       "      <td>-2.7723</td>\n",
       "    </tr>\n",
       "    <tr>\n",
       "      <th>2</th>\n",
       "      <td>40</td>\n",
       "      <td>1000267</td>\n",
       "      <td>220</td>\n",
       "      <td>2000534000</td>\n",
       "      <td>111</td>\n",
       "      <td>0.000000</td>\n",
       "      <td>2022-12-04T22:34:16.368Z</td>\n",
       "      <td>-2.7723</td>\n",
       "    </tr>\n",
       "    <tr>\n",
       "      <th>3</th>\n",
       "      <td>40</td>\n",
       "      <td>1000267</td>\n",
       "      <td>215</td>\n",
       "      <td>2000534000</td>\n",
       "      <td>111</td>\n",
       "      <td>0.000000</td>\n",
       "      <td>2022-12-04T22:34:16.368Z</td>\n",
       "      <td>-2.7723</td>\n",
       "    </tr>\n",
       "    <tr>\n",
       "      <th>4</th>\n",
       "      <td>40</td>\n",
       "      <td>1000267</td>\n",
       "      <td>210</td>\n",
       "      <td>2000534000</td>\n",
       "      <td>111</td>\n",
       "      <td>0.000000</td>\n",
       "      <td>2022-12-04T22:34:16.368Z</td>\n",
       "      <td>-2.7723</td>\n",
       "    </tr>\n",
       "    <tr>\n",
       "      <th>...</th>\n",
       "      <td>...</td>\n",
       "      <td>...</td>\n",
       "      <td>...</td>\n",
       "      <td>...</td>\n",
       "      <td>...</td>\n",
       "      <td>...</td>\n",
       "      <td>...</td>\n",
       "      <td>...</td>\n",
       "    </tr>\n",
       "    <tr>\n",
       "      <th>9995</th>\n",
       "      <td>40</td>\n",
       "      <td>1008732</td>\n",
       "      <td>114</td>\n",
       "      <td>2017464032</td>\n",
       "      <td>111</td>\n",
       "      <td>0.000705</td>\n",
       "      <td>2022-10-07T02:41:38.848Z</td>\n",
       "      <td>0.4511</td>\n",
       "    </tr>\n",
       "    <tr>\n",
       "      <th>9996</th>\n",
       "      <td>40</td>\n",
       "      <td>1008732</td>\n",
       "      <td>113</td>\n",
       "      <td>2017464032</td>\n",
       "      <td>111</td>\n",
       "      <td>0.005752</td>\n",
       "      <td>2022-10-07T02:41:38.848Z</td>\n",
       "      <td>0.4511</td>\n",
       "    </tr>\n",
       "    <tr>\n",
       "      <th>9997</th>\n",
       "      <td>40</td>\n",
       "      <td>1008732</td>\n",
       "      <td>110</td>\n",
       "      <td>2017464032</td>\n",
       "      <td>111</td>\n",
       "      <td>0.005850</td>\n",
       "      <td>2022-10-07T02:41:38.848Z</td>\n",
       "      <td>0.4511</td>\n",
       "    </tr>\n",
       "    <tr>\n",
       "      <th>9998</th>\n",
       "      <td>40</td>\n",
       "      <td>1008732</td>\n",
       "      <td>132</td>\n",
       "      <td>2017464032</td>\n",
       "      <td>111</td>\n",
       "      <td>0.000019</td>\n",
       "      <td>2022-10-07T02:41:38.848Z</td>\n",
       "      <td>0.4511</td>\n",
       "    </tr>\n",
       "    <tr>\n",
       "      <th>9999</th>\n",
       "      <td>40</td>\n",
       "      <td>1008732</td>\n",
       "      <td>124</td>\n",
       "      <td>2017464032</td>\n",
       "      <td>111</td>\n",
       "      <td>0.000003</td>\n",
       "      <td>2022-10-07T02:41:38.848Z</td>\n",
       "      <td>0.4511</td>\n",
       "    </tr>\n",
       "  </tbody>\n",
       "</table>\n",
       "<p>10000 rows × 8 columns</p>\n",
       "</div>"
      ],
      "text/plain": [
       "      classifierId  diaObjectId  classId     alertId  trueClassId  \\\n",
       "0               40      1000267      130  2000534000          111   \n",
       "1               40      1000267      120  2000534000          111   \n",
       "2               40      1000267      220  2000534000          111   \n",
       "3               40      1000267      215  2000534000          111   \n",
       "4               40      1000267      210  2000534000          111   \n",
       "...            ...          ...      ...         ...          ...   \n",
       "9995            40      1008732      114  2017464032          111   \n",
       "9996            40      1008732      113  2017464032          111   \n",
       "9997            40      1008732      110  2017464032          111   \n",
       "9998            40      1008732      132  2017464032          111   \n",
       "9999            40      1008732      124  2017464032          111   \n",
       "\n",
       "      probability        alertSentTimestamp  deltat  \n",
       "0        0.000000  2022-12-04T22:34:16.368Z -2.7723  \n",
       "1        0.000000  2022-12-04T22:34:16.368Z -2.7723  \n",
       "2        0.000000  2022-12-04T22:34:16.368Z -2.7723  \n",
       "3        0.000000  2022-12-04T22:34:16.368Z -2.7723  \n",
       "4        0.000000  2022-12-04T22:34:16.368Z -2.7723  \n",
       "...           ...                       ...     ...  \n",
       "9995     0.000705  2022-10-07T02:41:38.848Z  0.4511  \n",
       "9996     0.005752  2022-10-07T02:41:38.848Z  0.4511  \n",
       "9997     0.005850  2022-10-07T02:41:38.848Z  0.4511  \n",
       "9998     0.000019  2022-10-07T02:41:38.848Z  0.4511  \n",
       "9999     0.000003  2022-10-07T02:41:38.848Z  0.4511  \n",
       "\n",
       "[10000 rows x 8 columns]"
      ]
     },
     "execution_count": 22,
     "metadata": {},
     "output_type": "execute_result"
    }
   ],
   "source": [
    "sys.stderr.write( f\"Query start at {datetime.datetime.now().isoformat()}...\\n\" )\n",
    "query = ( 'SELECT '\n",
    "          '  v.\"classifierId\",v.\"diaObjectId\",v.\"classId\",v.\"alertId\",v.\"trueClassId\",v.\"probability\",v.\"alertSentTimestamp\", '\n",
    "          '  s.\"midPointTai\"-ot.peakmjd AS deltat '\n",
    "          'FROM elasticc_view_sourceclassifications v '\n",
    "          'INNER JOIN elasticc_diasource s ON v.\"diaSourceId\"=s.\"diaSourceId\" '\n",
    "          'INNER JOIN elasticc_diaobjecttruth ot ON v.\"diaObjectId\"=ot.\"diaObjectId\" '\n",
    "          'WHERE \"classifierId\" IN %(cfers)s AND \"trueClassId\"=111 '\n",
    "          'ORDER BY \"diaObjectId\",\"alertSentTimestamp\" '\n",
    "          'LIMIT 10000' )\n",
    "rows = run_query( query, { 'cfers': tuple(use_cfers.keys()) } )\n",
    "sys.stderr.write( f\"Query done at {datetime.datetime.now().isoformat()}\\n\" )\n",
    "data = pandas.DataFrame( rows )\n",
    "data"
   ]
  },
  {
   "cell_type": "code",
   "execution_count": 23,
   "id": "596326b4-ad64-4269-83d8-da6668d9c98e",
   "metadata": {},
   "outputs": [
    {
     "data": {
      "text/plain": [
       "array([1000267, 1000292, 1000316, 1000448, 1000674, 1000757, 1000776,\n",
       "       1001197, 1001216, 1001372, 1001409, 1001747, 1002071, 1002288,\n",
       "       1002647, 1002657, 1002842, 1002970, 1003312, 1003330, 1003377,\n",
       "       1003402, 1003722, 1003806, 1003878, 1004142, 1004205, 1004280,\n",
       "       1004461, 1004475, 1004497, 1004610, 1004688, 1004713, 1004893,\n",
       "       1004913, 1004931, 1004978, 1005358, 1005627, 1005628, 1005646,\n",
       "       1005738, 1005787, 1005839, 1005956, 1006052, 1006147, 1006335,\n",
       "       1006434, 1006466, 1006592, 1006701, 1007021, 1007116, 1007230,\n",
       "       1007364, 1007486, 1007857, 1007858, 1007987, 1008033, 1008462,\n",
       "       1008473, 1008505, 1008579, 1008732])"
      ]
     },
     "execution_count": 23,
     "metadata": {},
     "output_type": "execute_result"
    }
   ],
   "source": [
    "data['diaObjectId'].unique()"
   ]
  },
  {
   "cell_type": "code",
   "execution_count": null,
   "id": "ccf889ba-486f-489a-b1f2-9235c61f6dcf",
   "metadata": {},
   "outputs": [],
   "source": []
  }
 ],
 "metadata": {
  "kernelspec": {
   "display_name": "NERSC Python",
   "language": "python",
   "name": "python3"
  },
  "language_info": {
   "codemirror_mode": {
    "name": "ipython",
    "version": 3
   },
   "file_extension": ".py",
   "mimetype": "text/x-python",
   "name": "python",
   "nbconvert_exporter": "python",
   "pygments_lexer": "ipython3",
   "version": "3.9.7"
  }
 },
 "nbformat": 4,
 "nbformat_minor": 5
}
