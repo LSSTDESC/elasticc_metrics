{
 "cells": [
  {
   "cell_type": "markdown",
   "id": "31f208e2-1766-4d11-95be-654e16c8526f",
   "metadata": {},
   "source": [
    "# Exploring ELASTICC2 Data On NERSC"
   ]
  },
  {
   "cell_type": "code",
   "execution_count": 1,
   "id": "5ec1b263-030b-494f-aef9-e6ee84826fbb",
   "metadata": {
    "tags": []
   },
   "outputs": [],
   "source": [
    "import pandas as pd\n",
    "import numpy as np\n",
    "import pickle\n",
    "import os\n",
    "from matplotlib import pyplot as plt\n",
    "%matplotlib inline"
   ]
  },
  {
   "cell_type": "markdown",
   "id": "5e92f40d-1076-4875-a53f-6e836d0652a6",
   "metadata": {},
   "source": [
    "Rob Knop has stored some aggregated database information from ELASTICC2 in the following folder:"
   ]
  },
  {
   "cell_type": "code",
   "execution_count": 2,
   "id": "b5abd520-2ed5-4b88-bd71-7fc6801bb54b",
   "metadata": {
    "tags": []
   },
   "outputs": [],
   "source": [
    "elasticc_2_summary_folder = '/global/cfs/cdirs/desc-td/SOFTWARE/tom_deployment/production/tom_desc/tom_desc/elasticc2/summary_data/confusionvst'"
   ]
  },
  {
   "cell_type": "markdown",
   "id": "989cfdd5-a13d-4a61-b8af-20052f15e44a",
   "metadata": {},
   "source": [
    "There are a series of files in there where the first number is the broker classifier that ran and the second number is the true class from the ELASTICC2 classification list.\n",
    "\n",
    "**Warning**: The `cifydf` files used in this notebook can be very large (on the order of GB)."
   ]
  },
  {
   "cell_type": "code",
   "execution_count": 3,
   "id": "44814783-50f2-4a2a-af3d-ba0577c29490",
   "metadata": {
    "tags": []
   },
   "outputs": [],
   "source": [
    "full_prob_df = pd.read_pickle(os.path.join(elasticc_2_summary_folder, '13_2222_cifydf.pkl'))"
   ]
  },
  {
   "cell_type": "markdown",
   "id": "90c730e9-d33c-4ac5-aba0-8e22ba3388fc",
   "metadata": {},
   "source": [
    "The `cifydf` files are organized with a list of source with a given true class with the day of their detection relative to peak (each source only corresponds to a single day since they are sources and not objects) and the probability assigned by the classifier to each of the possible classifications."
   ]
  },
  {
   "cell_type": "code",
   "execution_count": 4,
   "id": "4efa9001-17c0-4579-8cb1-0ca2d5b83f62",
   "metadata": {
    "tags": []
   },
   "outputs": [
    {
     "data": {
      "text/html": [
       "<div>\n",
       "<style scoped>\n",
       "    .dataframe tbody tr th:only-of-type {\n",
       "        vertical-align: middle;\n",
       "    }\n",
       "\n",
       "    .dataframe tbody tr th {\n",
       "        vertical-align: top;\n",
       "    }\n",
       "\n",
       "    .dataframe thead th {\n",
       "        text-align: right;\n",
       "    }\n",
       "</style>\n",
       "<table border=\"1\" class=\"dataframe\">\n",
       "  <thead>\n",
       "    <tr style=\"text-align: right;\">\n",
       "      <th></th>\n",
       "      <th></th>\n",
       "      <th>relday</th>\n",
       "      <th>m.probability</th>\n",
       "    </tr>\n",
       "    <tr>\n",
       "      <th>s.diasource_id</th>\n",
       "      <th>m.classid</th>\n",
       "      <th></th>\n",
       "      <th></th>\n",
       "    </tr>\n",
       "  </thead>\n",
       "  <tbody>\n",
       "    <tr>\n",
       "      <th rowspan=\"5\" valign=\"top\">100006500047</th>\n",
       "      <th>2332</th>\n",
       "      <td>-18</td>\n",
       "      <td>0.00421</td>\n",
       "    </tr>\n",
       "    <tr>\n",
       "      <th>2245</th>\n",
       "      <td>-18</td>\n",
       "      <td>0.005696</td>\n",
       "    </tr>\n",
       "    <tr>\n",
       "      <th>2322</th>\n",
       "      <td>-18</td>\n",
       "      <td>0.0</td>\n",
       "    </tr>\n",
       "    <tr>\n",
       "      <th>2324</th>\n",
       "      <td>-18</td>\n",
       "      <td>0.000001</td>\n",
       "    </tr>\n",
       "    <tr>\n",
       "      <th>2234</th>\n",
       "      <td>-18</td>\n",
       "      <td>0.000002</td>\n",
       "    </tr>\n",
       "    <tr>\n",
       "      <th>...</th>\n",
       "      <th>...</th>\n",
       "      <td>...</td>\n",
       "      <td>...</td>\n",
       "    </tr>\n",
       "    <tr>\n",
       "      <th rowspan=\"5\" valign=\"top\">15951127400013</th>\n",
       "      <th>2241</th>\n",
       "      <td>18</td>\n",
       "      <td>0.0</td>\n",
       "    </tr>\n",
       "    <tr>\n",
       "      <th>2310</th>\n",
       "      <td>18</td>\n",
       "      <td>0.0</td>\n",
       "    </tr>\n",
       "    <tr>\n",
       "      <th>2321</th>\n",
       "      <td>18</td>\n",
       "      <td>0.0</td>\n",
       "    </tr>\n",
       "    <tr>\n",
       "      <th>2326</th>\n",
       "      <td>18</td>\n",
       "      <td>0.0</td>\n",
       "    </tr>\n",
       "    <tr>\n",
       "      <th>2331</th>\n",
       "      <td>18</td>\n",
       "      <td>0.0</td>\n",
       "    </tr>\n",
       "  </tbody>\n",
       "</table>\n",
       "<p>234037056 rows × 2 columns</p>\n",
       "</div>"
      ],
      "text/plain": [
       "                          relday m.probability\n",
       "s.diasource_id m.classid                      \n",
       "100006500047   2332          -18       0.00421\n",
       "               2245          -18      0.005696\n",
       "               2322          -18           0.0\n",
       "               2324          -18      0.000001\n",
       "               2234          -18      0.000002\n",
       "...                          ...           ...\n",
       "15951127400013 2241           18           0.0\n",
       "               2310           18           0.0\n",
       "               2321           18           0.0\n",
       "               2326           18           0.0\n",
       "               2331           18           0.0\n",
       "\n",
       "[234037056 rows x 2 columns]"
      ]
     },
     "execution_count": 4,
     "metadata": {},
     "output_type": "execute_result"
    }
   ],
   "source": [
    "full_prob_df"
   ]
  },
  {
   "cell_type": "code",
   "execution_count": 5,
   "id": "4b6b4f59-d92f-40d0-a6bc-d95bc1baec78",
   "metadata": {
    "tags": []
   },
   "outputs": [],
   "source": [
    "full_prob_df.index.names = ['source_id', 'class_id']"
   ]
  },
  {
   "cell_type": "code",
   "execution_count": 6,
   "id": "4e6031f1-d268-44ed-a147-c15d30a151ff",
   "metadata": {
    "tags": []
   },
   "outputs": [],
   "source": [
    "day_prob_class_truth = np.array(full_prob_df.query(f'relday == -18 and class_id == 2222')['m.probability'].values, dtype=float)"
   ]
  },
  {
   "cell_type": "code",
   "execution_count": 7,
   "id": "1b7e23f9-722f-4e96-b9c8-4b8c0e46c3dc",
   "metadata": {
    "tags": []
   },
   "outputs": [],
   "source": [
    "day_prob_class_confusion = np.array(full_prob_df.query(f'relday == -18 and class_id == 2242')['m.probability'].values, dtype=float)"
   ]
  },
  {
   "cell_type": "markdown",
   "id": "a917ff47-5256-472d-851d-6e0516b06bfa",
   "metadata": {},
   "source": [
    "For the given true class for this file and a confusion class we query all objects on a specific day and store the list of the probabilities for all sources on that day. We can then build violin plots for each day."
   ]
  },
  {
   "cell_type": "code",
   "execution_count": 8,
   "id": "120386ff-0b2a-4cbf-81b5-49009f575091",
   "metadata": {
    "tags": []
   },
   "outputs": [
    {
     "data": {
      "text/plain": [
       "Text(0, 0.5, 'Probability')"
      ]
     },
     "execution_count": 8,
     "metadata": {},
     "output_type": "execute_result"
    },
    {
     "data": {
      "image/png": "[encoded data removed]",
      "text/plain": [
       "<Figure size 640x480 with 1 Axes>"
      ]
     },
     "metadata": {},
     "output_type": "display_data"
    }
   ],
   "source": [
    "import matplotlib.patches as mpatches\n",
    "\n",
    "rel_days = np.array([-5, 0, 5])\n",
    "day_prob_class_truth = []\n",
    "day_prob_class_confusion = []\n",
    "true_class = 2222\n",
    "confusion_class = 2223\n",
    "\n",
    "for rel_day in rel_days:\n",
    "    day_prob_class_truth.append(np.array(full_prob_df.query(f'relday == {rel_day} and class_id == {true_class}')['m.probability'].values, dtype=float))\n",
    "    day_prob_class_confusion.append(np.array(full_prob_df.query(f'relday == {rel_day} and class_id == {confusion_class}')['m.probability'].values, dtype=float))\n",
    "\n",
    "labels = []\n",
    "def add_label(violin, label):\n",
    "    color = violin[\"bodies\"][0].get_facecolor().flatten()\n",
    "    labels.append((mpatches.Patch(color=color), label))\n",
    "\n",
    "add_label(plt.violinplot(day_prob_class_truth, points=20, positions=rel_days - .5, widths=1.0), 'True Class: SN Ia')\n",
    "add_label(plt.violinplot(day_prob_class_confusion, points=20, positions=rel_days + .5, widths=1.0), label='Confusion Class: SN Ib/c')\n",
    "\n",
    "plt.legend(*zip(*labels), bbox_to_anchor=(1., 1.15))\n",
    "plt.xlabel('Days relative to peak')\n",
    "plt.ylabel('Probability')"
   ]
  },
  {
   "cell_type": "markdown",
   "id": "693a1b66-dcc7-4678-8b9a-6c742a0c683a",
   "metadata": {},
   "source": [
    "Some single day plots."
   ]
  },
  {
   "cell_type": "code",
   "execution_count": 9,
   "id": "0a8e65f3-46f3-40bb-8c9c-c22855d5d5bd",
   "metadata": {
    "tags": []
   },
   "outputs": [],
   "source": [
    "day_prob_class_truth = np.array(full_prob_df.query(f'relday == 0 and class_id == 2222')['m.probability'].values, dtype=float)"
   ]
  },
  {
   "cell_type": "code",
   "execution_count": 10,
   "id": "d7870fb8-9a22-44e6-af02-5a15d78db21a",
   "metadata": {
    "tags": []
   },
   "outputs": [],
   "source": [
    "day_prob_class_confusion = np.array(full_prob_df.query(f'relday == 0 and class_id == 2232')['m.probability'].values, dtype=float)"
   ]
  },
  {
   "cell_type": "code",
   "execution_count": 11,
   "id": "54374360-56ff-44c8-9953-f0399f9cfc9b",
   "metadata": {
    "tags": []
   },
   "outputs": [
    {
     "data": {
      "text/plain": [
       "{'bodies': [<matplotlib.collections.PolyCollection at 0x7fc6ab1dd030>],\n",
       " 'cmaxes': <matplotlib.collections.LineCollection at 0x7fc6ab3b6500>,\n",
       " 'cmins': <matplotlib.collections.LineCollection at 0x7fc6ab1dd7b0>,\n",
       " 'cbars': <matplotlib.collections.LineCollection at 0x7fc6ab1ddb70>}"
      ]
     },
     "execution_count": 11,
     "metadata": {},
     "output_type": "execute_result"
    },
    {
     "data": {
      "image/png": "[encoded data removed]",
      "text/plain": [
       "<Figure size 640x480 with 1 Axes>"
      ]
     },
     "metadata": {},
     "output_type": "display_data"
    }
   ],
   "source": [
    "plt.violinplot(day_prob_class_truth, points=20)\n",
    "plt.violinplot(day_prob_class_confusion, points=20, positions=[1.4])"
   ]
  },
  {
   "cell_type": "code",
   "execution_count": 12,
   "id": "f8276b1e-51d6-4705-b394-12a176f1e465",
   "metadata": {
    "tags": []
   },
   "outputs": [],
   "source": [
    "day_prob_class_truth = np.array(full_prob_df.query(f'relday == 18 and class_id == 2222')['m.probability'].values, dtype=float)"
   ]
  },
  {
   "cell_type": "code",
   "execution_count": 13,
   "id": "d0644b52-5f27-4823-93dd-f2ad5ba24e9a",
   "metadata": {
    "tags": []
   },
   "outputs": [],
   "source": [
    "day_prob_class_confusion = np.array(full_prob_df.query(f'relday == 18 and class_id == 2232')['m.probability'].values, dtype=float)"
   ]
  },
  {
   "cell_type": "code",
   "execution_count": 14,
   "id": "74509245-935b-4377-a8ee-31a8cca7edae",
   "metadata": {
    "tags": []
   },
   "outputs": [
    {
     "data": {
      "text/plain": [
       "{'bodies': [<matplotlib.collections.PolyCollection at 0x7fc6ab246bf0>],\n",
       " 'cmaxes': <matplotlib.collections.LineCollection at 0x7fcb1f5223e0>,\n",
       " 'cmins': <matplotlib.collections.LineCollection at 0x7fc6ab247370>,\n",
       " 'cbars': <matplotlib.collections.LineCollection at 0x7fc6ab247730>}"
      ]
     },
     "execution_count": 14,
     "metadata": {},
     "output_type": "execute_result"
    },
    {
     "data": {
      "image/png": "[encoded data removed]",
      "text/plain": [
       "<Figure size 640x480 with 1 Axes>"
      ]
     },
     "metadata": {},
     "output_type": "display_data"
    }
   ],
   "source": [
    "plt.violinplot(day_prob_class_truth, points=20)\n",
    "plt.violinplot(day_prob_class_confusion, points=20, positions=[1.4])"
   ]
  },
  {
   "cell_type": "code",
   "execution_count": 15,
   "id": "9d4dbba6-ad96-425a-8fff-47788dc8f9e5",
   "metadata": {
    "tags": []
   },
   "outputs": [
    {
     "data": {
      "text/plain": [
       "(array([11616,  5514,  4322,  3787,  3494,  3233,  2693,  2224,  1728,\n",
       "         1361,   951,   308,    89,    75,    41,    51,    39,    16,\n",
       "            4,     3]),\n",
       " array([0.  , 0.05, 0.1 , 0.15, 0.2 , 0.25, 0.3 , 0.35, 0.4 , 0.45, 0.5 ,\n",
       "        0.55, 0.6 , 0.65, 0.7 , 0.75, 0.8 , 0.85, 0.9 , 0.95, 1.  ]))"
      ]
     },
     "execution_count": 15,
     "metadata": {},
     "output_type": "execute_result"
    }
   ],
   "source": [
    "np.histogram(full_prob_df.query(f'relday == -18 and class_id == 2222')['m.probability'].values, bins=np.linspace(0, 1, 21))"
   ]
  },
  {
   "cell_type": "code",
   "execution_count": null,
   "id": "04b8fec4-15e9-4e21-8921-b205b523dccb",
   "metadata": {},
   "outputs": [],
   "source": []
  }
 ],
 "metadata": {
  "kernelspec": {
   "display_name": "desc-python",
   "language": "python",
   "name": "desc-python"
  },
  "language_info": {
   "codemirror_mode": {
    "name": "ipython",
    "version": 3
   },
   "file_extension": ".py",
   "mimetype": "text/x-python",
   "name": "python",
   "nbconvert_exporter": "python",
   "pygments_lexer": "ipython3",
   "version": "3.10.13"
  }
 },
 "nbformat": 4,
 "nbformat_minor": 5
}
