{
 "cells": [
  {
   "cell_type": "markdown",
   "id": "d1cf2bda-ac92-49da-b669-b131b843790a",
   "metadata": {},
   "source": [
    "## Probability for each class vs. time for one object at a time\n",
    "\n",
    "Selects out a subset of objects and classifiers.  Defines deltat to be the difference between the time of the detection and the \"peak time\" of the object.  Draws a heatmap for each object/classifier combination that shows the probability assigned to all classes as a function of deltat."
   ]
  },
  {
   "cell_type": "code",
   "execution_count": null,
   "id": "59c4bf2b-60f6-4a93-82ab-427082d5dd89",
   "metadata": {},
   "outputs": [],
   "source": [
    "%matplotlib inline\n",
    "import pandas\n",
    "import matplotlib\n",
    "import matplotlib.pyplot\n",
    "import matplotlib.pyplot as plt\n",
    "import seaborn"
   ]
  },
  {
   "cell_type": "code",
   "execution_count": null,
   "id": "041e40aa",
   "metadata": {},
   "outputs": [],
   "source": [
    "# Run the setup.  This will connect to the database, define function `run_query`, and define dictionaries `classifier_info` and `classname`\n",
    "%run query_for_probabilistic_metrics_setup.ipynb"
   ]
  },
  {
   "cell_type": "code",
   "execution_count": null,
   "id": "afd43b4c-decf-4f4e-b7a9-86985db4da71",
   "metadata": {},
   "outputs": [],
   "source": [
    "classname"
   ]
  },
  {
   "cell_type": "code",
   "execution_count": null,
   "id": "3b2baa3e-0d01-4572-a83b-449b841a5e42",
   "metadata": {},
   "outputs": [],
   "source": [
    "# To make things run in finite time, for now just select out a couple of classifiers.\n",
    "# 40 = Alerce 3.1.0 balto\n",
    "# 44 = Antares 2.0.0 LiCuParsnip_filter\n",
    "use_cfers = { c: classifier_info[c] for c in classifier_info.keys() if c in [ 40, 44] }\n",
    "use_cfers"
   ]
  },
  {
   "cell_type": "code",
   "execution_count": null,
   "id": "fa1777a6-335d-4541-a441-d98f52543683",
   "metadata": {},
   "outputs": [],
   "source": [
    "sys.stderr.write( f\"Query start at {datetime.datetime.now().isoformat()}...\\n\" )\n",
    "query = ( 'SELECT '\n",
    "          '  v.\"classifierId\",v.\"diaObjectId\",v.\"classId\",v.\"alertId\",v.\"trueClassId\",v.\"probability\",v.\"alertSentTimestamp\", '\n",
    "          '  s.\"midPointTai\"-ot.peakmjd AS deltat '\n",
    "          'FROM elasticc_view_sourceclassifications v '\n",
    "          'INNER JOIN elasticc_diasource s ON v.\"diaSourceId\"=s.\"diaSourceId\" '\n",
    "          'INNER JOIN elasticc_diaobjecttruth ot ON v.\"diaObjectId\"=ot.\"diaObjectId\" '\n",
    "          'WHERE \"classifierId\" IN %(cfers)s AND \"trueClassId\"=111 '\n",
    "          'ORDER BY \"diaObjectId\",\"alertSentTimestamp\" '\n",
    "          'LIMIT 10000' )\n",
    "rows = run_query( query, { 'cfers': tuple(use_cfers.keys()) } )\n",
    "sys.stderr.write( f\"Query done at {datetime.datetime.now().isoformat()}\\n\" )\n",
    "data = pandas.DataFrame( rows ).set_index( ['diaObjectId', 'classifierId', 'classId'] )\n",
    "data"
   ]
  },
  {
   "cell_type": "code",
   "execution_count": null,
   "id": "dfe9b8f7",
   "metadata": {},
   "outputs": [],
   "source": [
    "# Figure out how many classifiers there are for each object\n",
    "# I bet this is more roundabout than it needs to be\n",
    "numcfersperobj = data.reset_index().groupby( ['diaObjectId', 'classifierId'] )['alertId'].first().reset_index().groupby('diaObjectId')['classifierId'].count()\n",
    "objswithmultiplecfers = numcfersperobj[ numcfersperobj > 1 ].index.values\n",
    "print( f\"There are {len(numcfersperobj)} objects, {len(objswithmultiplecfers)} of which are classified by >1 classifier.\" )"
   ]
  },
  {
   "cell_type": "code",
   "execution_count": null,
   "id": "1790954c-e3b5-4342-a4bf-d441429f9bae",
   "metadata": {},
   "outputs": [],
   "source": [
    "for objid in objswithmultiplecfers[0:10]:\n",
    "    objdf = data.xs( objid, level='diaObjectId' )\n",
    "    cfers = objdf.index.get_level_values( 'classifierId' ).unique().values\n",
    "    wid = 6 * len(cfers)\n",
    "    fig = matplotlib.pyplot.figure( figsize=(wid,6), tight_layout=True )\n",
    "    fig.suptitle( f\"diaObjectId = {objid}, true class {classname[objdf['trueClassId'].iloc[0]]}\" )\n",
    "    for i, cfer in enumerate( cfers ):\n",
    "        objcferdf = objdf.xs( cfer, level='classifierId' ).reset_index()\n",
    "        objcferdf['deltat'] = objcferdf['deltat'].round(2)\n",
    "        objcferdf['class'] = objcferdf['classId'].apply( lambda i : classname[i] )\n",
    "        pt = pandas.pivot_table( objcferdf, values='probability', columns='deltat', index='class' )\n",
    "        ax = fig.add_subplot( 1, len(cfers), i+1 )\n",
    "        ax.set_title( f\"{classifier_info[cfer]['brokerName']} {classifier_info[cfer]['brokerVersion']} \"\n",
    "                      f\"{classifier_info[cfer]['classifierName']} {classifier_info[cfer]['classifierParams']}\" )\n",
    "        ax.set_xlabel( 'Δt (days)' )\n",
    "        ax.set_ylabel( 'classId' )\n",
    "        seaborn.heatmap( pt, ax=ax )\n",
    "    fig.show()"
   ]
  },
  {
   "cell_type": "code",
   "execution_count": null,
   "id": "ae6aaedc-80b9-48b4-82a0-ca9f2d61d836",
   "metadata": {},
   "outputs": [],
   "source": []
  }
 ],
 "metadata": {
  "kernelspec": {
   "display_name": "CASTOR (Python 3)",
   "language": "python",
   "name": "castor_3"
  },
  "language_info": {
   "codemirror_mode": {
    "name": "ipython",
    "version": 3
   },
   "file_extension": ".py",
   "mimetype": "text/x-python",
   "name": "python",
   "nbconvert_exporter": "python",
   "pygments_lexer": "ipython3",
   "version": "3.10.6"
  }
 },
 "nbformat": 4,
 "nbformat_minor": 5
}
