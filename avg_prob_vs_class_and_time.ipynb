{
 "cells": [
  {
   "cell_type": "markdown",
   "id": "74bf3cb1-d5e2-4306-a679-ab6b8caeaa39",
   "metadata": {},
   "source": [
    "# Heatmap of avg. probability vs. class and time\n",
    "\n",
    "For one classifier and one true class (and then looping over them!), show the average probability assigned to each class for objects of that true class as a function of time.\n",
    "\n",
    "Hack note: because this is based on a histogram in a database materialized view, there's an issue with the lowest probability bin.  See \"HACK ALERT\" in the cell below that actually does the plots."
   ]
  },
  {
   "cell_type": "code",
   "execution_count": 1,
   "id": "59c4bf2b-60f6-4a93-82ab-427082d5dd89",
   "metadata": {},
   "outputs": [],
   "source": [
    "%matplotlib inline\n",
    "import sys\n",
    "import os\n",
    "import requests\n",
    "import datetime\n",
    "import dateutil.parser\n",
    "import logging\n",
    "import json\n",
    "import numpy\n",
    "import pandas\n",
    "import matplotlib\n",
    "from matplotlib import pyplot\n",
    "import seaborn\n",
    "import sklearn\n",
    "import sklearn.metrics\n",
    "\n",
    "from metric_querier import ELAsTiCCMetricsQuerier"
   ]
  },
  {
   "cell_type": "code",
   "execution_count": 2,
   "id": "494eceba-a83e-4cdf-a68c-c07ebdc582b5",
   "metadata": {},
   "outputs": [],
   "source": [
    "logger = logging.getLogger(__name__)\n",
    "if not logger.hasHandlers():\n",
    "    _logout = logging.StreamHandler( sys.stderr )\n",
    "    logger.addHandler( _logout )\n",
    "    _formatter = logging.Formatter( f'[%(asctime)s - %(levelname)s] - %(message)s', datefmt='%Y-%m-%d %H:%M:%S' )\n",
    "    _logout.setFormatter( _formatter )\n",
    "\n",
    "logger.setLevel( logging.DEBUG )"
   ]
  },
  {
   "cell_type": "code",
   "execution_count": 3,
   "id": "041e40aa",
   "metadata": {},
   "outputs": [],
   "source": [
    "username = \"rknop\"\n",
    "with open( os.path.join( os.getenv(\"HOME\"), \"secrets\", \"tom_\"+username+\"_passwd\" ) ) as ifp:\n",
    "    password = ifp.readline().strip()\n",
    "    \n",
    "emq = ELAsTiCCMetricsQuerier( tomusername=username, tompasswd=password, logger=logger )"
   ]
  },
  {
   "cell_type": "code",
   "execution_count": 4,
   "id": "5cbc7c99-0ecd-4199-9f1a-71f2c6ba6ed2",
   "metadata": {},
   "outputs": [
    {
     "name": "stderr",
     "output_type": "stream",
     "text": [
      "[2023-03-13 10:33:11 - DEBUG] - Sending query to get probabilistic metrics histogram table\n",
      "[2023-03-13 10:33:23 - DEBUG] - Got response, pandifying\n",
      "[2023-03-13 10:33:25 - DEBUG] - Done\n"
     ]
    }
   ],
   "source": [
    "# Run help(ELAsTiCCMetricsQuerier) for lots of information\n",
    "probhist = emq.probhist()"
   ]
  },
  {
   "cell_type": "code",
   "execution_count": 5,
   "id": "eaf1f0e6-bba2-4fe5-b026-37df08ee4242",
   "metadata": {},
   "outputs": [
    {
     "data": {
      "text/html": [
       "<div>\n",
       "<style scoped>\n",
       "    .dataframe tbody tr th:only-of-type {\n",
       "        vertical-align: middle;\n",
       "    }\n",
       "\n",
       "    .dataframe tbody tr th {\n",
       "        vertical-align: top;\n",
       "    }\n",
       "\n",
       "    .dataframe thead th {\n",
       "        text-align: right;\n",
       "    }\n",
       "</style>\n",
       "<table border=\"1\" class=\"dataframe\">\n",
       "  <thead>\n",
       "    <tr style=\"text-align: right;\">\n",
       "      <th></th>\n",
       "      <th></th>\n",
       "      <th></th>\n",
       "      <th></th>\n",
       "      <th></th>\n",
       "      <th>count</th>\n",
       "    </tr>\n",
       "    <tr>\n",
       "      <th>classifierId</th>\n",
       "      <th>trueClassId</th>\n",
       "      <th>classId</th>\n",
       "      <th>tbin</th>\n",
       "      <th>probbin</th>\n",
       "      <th></th>\n",
       "    </tr>\n",
       "  </thead>\n",
       "  <tbody>\n",
       "    <tr>\n",
       "      <th rowspan=\"5\" valign=\"top\">36</th>\n",
       "      <th rowspan=\"5\" valign=\"top\">111</th>\n",
       "      <th rowspan=\"5\" valign=\"top\">0</th>\n",
       "      <th>1</th>\n",
       "      <th>21</th>\n",
       "      <td>4</td>\n",
       "    </tr>\n",
       "    <tr>\n",
       "      <th>2</th>\n",
       "      <th>21</th>\n",
       "      <td>133</td>\n",
       "    </tr>\n",
       "    <tr>\n",
       "      <th>3</th>\n",
       "      <th>21</th>\n",
       "      <td>2217</td>\n",
       "    </tr>\n",
       "    <tr>\n",
       "      <th>4</th>\n",
       "      <th>21</th>\n",
       "      <td>3333</td>\n",
       "    </tr>\n",
       "    <tr>\n",
       "      <th>5</th>\n",
       "      <th>21</th>\n",
       "      <td>2887</td>\n",
       "    </tr>\n",
       "    <tr>\n",
       "      <th>...</th>\n",
       "      <th>...</th>\n",
       "      <th>...</th>\n",
       "      <th>...</th>\n",
       "      <th>...</th>\n",
       "      <td>...</td>\n",
       "    </tr>\n",
       "    <tr>\n",
       "      <th rowspan=\"5\" valign=\"top\">89</th>\n",
       "      <th rowspan=\"5\" valign=\"top\">221</th>\n",
       "      <th rowspan=\"5\" valign=\"top\">135</th>\n",
       "      <th rowspan=\"5\" valign=\"top\">27</th>\n",
       "      <th>16</th>\n",
       "      <td>1524</td>\n",
       "    </tr>\n",
       "    <tr>\n",
       "      <th>17</th>\n",
       "      <td>1464</td>\n",
       "    </tr>\n",
       "    <tr>\n",
       "      <th>18</th>\n",
       "      <td>1669</td>\n",
       "    </tr>\n",
       "    <tr>\n",
       "      <th>19</th>\n",
       "      <td>1412</td>\n",
       "    </tr>\n",
       "    <tr>\n",
       "      <th>20</th>\n",
       "      <td>1327</td>\n",
       "    </tr>\n",
       "  </tbody>\n",
       "</table>\n",
       "<p>1226274 rows × 1 columns</p>\n",
       "</div>"
      ],
      "text/plain": [
       "                                               count\n",
       "classifierId trueClassId classId tbin probbin       \n",
       "36           111         0       1    21           4\n",
       "                                 2    21         133\n",
       "                                 3    21        2217\n",
       "                                 4    21        3333\n",
       "                                 5    21        2887\n",
       "...                                              ...\n",
       "89           221         135     27   16        1524\n",
       "                                      17        1464\n",
       "                                      18        1669\n",
       "                                      19        1412\n",
       "                                      20        1327\n",
       "\n",
       "[1226274 rows x 1 columns]"
      ]
     },
     "execution_count": 5,
     "metadata": {},
     "output_type": "execute_result"
    }
   ],
   "source": [
    "probhist"
   ]
  },
  {
   "cell_type": "code",
   "execution_count": 6,
   "id": "03e934fa-2068-49b5-9217-9f2621e702f4",
   "metadata": {},
   "outputs": [
    {
     "name": "stdout",
     "output_type": "stream",
     "text": [
      "Going to do classifiers: [40, 89, 44]\n",
      "Going to do classes: ['Ia', 'Ib/c', 'II', 'SLSN']\n"
     ]
    }
   ],
   "source": [
    "# cferstodo = list( emq.classifier_info.keys() )\n",
    "cferstodo = [ 40, 89, 44 ]\n",
    "# cferstodo = [ 40 ]\n",
    "trueclasstodo = [ 111, 112, 113, 131 ]\n",
    "# trueclasstodo = [ 111 ]\n",
    "print( f\"Going to do classifiers: {cferstodo}\" )\n",
    "print( f\"Going to do classes: {[emq.classname[i] for i in trueclasstodo]}\" )"
   ]
  },
  {
   "cell_type": "code",
   "execution_count": null,
   "id": "429d6837-9897-4f36-85ac-547569e12b80",
   "metadata": {},
   "outputs": [
    {
     "name": "stderr",
     "output_type": "stream",
     "text": [
      "[2023-03-13 10:33:25 - DEBUG] - doing cfer 40, true class Ia\n"
     ]
    }
   ],
   "source": [
    "for cfer in cferstodo:\n",
    "    brokername = emq.classifier_info[cfer]['brokerName']\n",
    "    brokerversion = emq.classifier_info[cfer]['brokerVersion']\n",
    "    classifiername = emq.classifier_info[cfer]['classifierName']\n",
    "    classifierparams = emq.classifier_info[cfer]['classifierParams']\n",
    "    cfertitle = f'{brokername} {brokerversion} {classifiername} {classifierparams}'\n",
    "    for trueclass in trueclasstodo:\n",
    "        logger.debug( f\"doing cfer {cfer}, true class {emq.classname[trueclass]}\" )\n",
    "        title = f\"True Class {emq.classname[trueclass]} for {cfertitle}\"\n",
    "        subdf = probhist.xs( ( cfer, trueclass ), level=( 'classifierId', 'trueClassId' ) )\n",
    "        probdf = subdf / subdf.groupby( ['classId', 'tbin'] ).sum()\n",
    "        probdf.reset_index( inplace=True )\n",
    "        probdf.set_index( ['tbin', 'probbin', 'classId'], inplace=True )\n",
    "        # logger.debug( f\"Before filling in missing indexes, len(probhist) = {len(probhist)}\" )\n",
    "        # Fill in missing indexes with 0s.  This is a bit slow (takes a couple of seconds each time).\n",
    "        # new_indices = pandas.MultiIndex.from_product( [ range( 0, emq.tbin_num+2 ), range( 0, emq.probbin_num+2 ), \n",
    "        #                                                 probdf.index.get_level_values('classId') ] )\n",
    "        # probdf.reindex( new_indices, fill_value=0. )\n",
    "        # logger.debug( f\"After filling in missing indexes, len(probhist) = {len(probhist)}\" )\n",
    "        # Fill in the probability values associated with the bins\n",
    "        probdf['prob'] = emq.probbin_val( probdf.reset_index()['probbin'] )\n",
    "        # HACK ALERT.  There's this issue with the histogramming.  Probably (but not certainly) lots\n",
    "        # of the things that show up in probbin=1 are really 0 probabilities reported by the brokers,\n",
    "        # but now that we've binned it we're going to treat it as 0.025.  Big deal, you say, until\n",
    "        # you realize that there might be 15 classes that all were given 0 probability by a\n",
    "        # broker, and now you've got an extra 15*0.025=0.625 of probability that's not real!  So, \n",
    "        # we're going to make the rash assumption that the probability value associated with \n",
    "        # probbin=1 is 0, not 2.5%, which is wrong, but hopefully less wrong than a direct\n",
    "        # interpretation of the histogram.\n",
    "        probdf.loc[ pandas.IndexSlice[ :, 1, : ] ] = 0.\n",
    "        # Don't need probbin any more\n",
    "        probdf.reset_index( inplace=True )\n",
    "        probdf.drop( [ 'probbin' ] , axis=1, inplace=True )\n",
    "        probdf.set_index( [ 'tbin', 'classId' ], inplace=True )\n",
    "        \n",
    "        # Finally, combine things together to get a total probability\n",
    "        #   as a function of classId and tbin\n",
    "        probdf['prob'] *= probdf['count']\n",
    "        probdf.drop( [ 'count' ], axis=1, inplace=True )\n",
    "        probdf = probdf.groupby( [ 'tbin', 'classId' ] ).apply( sum )\n",
    "\n",
    "        # To check how much probability we've lost with our assuming probbin1 is 0 probability,\n",
    "        # do probdf.groupby(['tbin']).sum()\n",
    "\n",
    "        # Fill in the missing tbins\n",
    "        # logger.debug( f\"Before fliling in missing tbins, len(probdf) = {len(probdf)}\" )\n",
    "        new_indices = pandas.MultiIndex.from_product( [ range(0, emq.tbin_num+2), probdf.index.get_level_values( 'classId' ) ] )\n",
    "        probdf.reindex( new_indices, fill_value=0. )\n",
    "        # logger.debug( f\"After filling in missing tbins, len(probdf) = {len(probdf)}\" )\n",
    "        \n",
    "        # Finally, we're ready to plot\n",
    "        \n",
    "        fig = pyplot.figure( figsize=(8,6), tight_layout=True )\n",
    "        ax = fig.add_subplot( 1, 1, 1 )\n",
    "        pt = pandas.pivot_table( probdf, values=\"prob\", columns=\"tbin\", index=\"classId\" )\n",
    "        seaborn.heatmap( pt, vmin=0, vmax=1 )\n",
    "        xticks = numpy.arange( 0, emq.tbin_num+2, 4 ) + 0.5\n",
    "        # ensure that the highest bin is included\n",
    "        if xticks[-1] != emq.tbin_num+1:\n",
    "            xticks = numpy.append( xticks, emq.tbin_num+1.5 )\n",
    "        # xticklabs = [ str(emq.tbin_val(int(i.get_text()))) for i in ax.get_xticklabels() ]\n",
    "        xticklabs = [ str(i) for i in emq.tbin_val(xticks) ]\n",
    "        xticklabs[0] = f\"<{emq.tbin_min}\"\n",
    "        xticklabs[-1] = f\"≥{emq.tbin_max}\"\n",
    "        ax.set_xticks( xticks )\n",
    "        ax.set_xticklabels( xticklabs ) \n",
    "        ax.set_yticklabels( [ emq.classname[ int(i.get_text()) ] for i in ax.get_yticklabels() ], rotation=0 )\n",
    "        ax.set_xlabel( \"Δt rel. peak (days)\" )\n",
    "        ax.set_ylabel( \"Class\" )\n",
    "        ax.set_title( f\"{cfertitle}\\nTrue Class {emq.classname[trueclass]}\" )\n",
    "        fig.show()\n",
    "        "
   ]
  },
  {
   "cell_type": "code",
   "execution_count": null,
   "id": "9920fc76-925b-4eb9-b5c4-4dc4ac5bde59",
   "metadata": {},
   "outputs": [],
   "source": []
  }
 ],
 "metadata": {
  "kernelspec": {
   "display_name": "NERSC Python",
   "language": "python",
   "name": "python3"
  },
  "language_info": {
   "codemirror_mode": {
    "name": "ipython",
    "version": 3
   },
   "file_extension": ".py",
   "mimetype": "text/x-python",
   "name": "python",
   "nbconvert_exporter": "python",
   "pygments_lexer": "ipython3",
   "version": "3.9.7"
  }
 },
 "nbformat": 4,
 "nbformat_minor": 5
}
